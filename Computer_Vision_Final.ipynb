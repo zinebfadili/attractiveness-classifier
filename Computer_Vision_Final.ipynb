{
  "nbformat": 4,
  "nbformat_minor": 0,
  "metadata": {
    "colab": {
      "name": "Computer-Vision-Final.ipynb",
      "provenance": [],
      "collapsed_sections": []
    },
    "kernelspec": {
      "name": "python3",
      "display_name": "Python 3"
    },
    "accelerator": "GPU"
  },
  "cells": [
    {
      "cell_type": "markdown",
      "metadata": {
        "id": "Krntud63UOUm"
      },
      "source": [
        "# Introduction"
      ]
    },
    {
      "cell_type": "markdown",
      "metadata": {
        "id": "29RWqqVZUSPY"
      },
      "source": [
        "Now, more than ever, algorithms are responsible for life-changing choices\r\n",
        "such as recruitment or loan allocation. Therefore, the question of algorithmic\r\n",
        "fairness is central if we wish to make our society fairer and more inclusive.\r\n",
        "\r\n",
        "\r\n",
        "This project aims at measuring the fairness of a neural network used to\r\n",
        "classify pictures of humans. More specifically, we’re interested in knowing if\r\n",
        "there are biases with respect to protected categories such as gender or age and\r\n",
        "finding ways to alleviate those biases.\r\n",
        "\r\n",
        "\r\n",
        "We’re building an attractiveness classifier, i.e a classifier that should separate human images into two categories : attractive or unattractive. This classifier is going to be evaluated in terms of biases with respect to protected categories in order to measure its fairness.\r\n"
      ]
    },
    {
      "cell_type": "markdown",
      "metadata": {
        "id": "YnR0gq_ROUlT"
      },
      "source": [
        "**Importante note :** This notebook contains only the source code of the project. For explanations please look at the report."
      ]
    },
    {
      "cell_type": "markdown",
      "metadata": {
        "id": "9J0DLDLhUXY3"
      },
      "source": [
        "# Imports"
      ]
    },
    {
      "cell_type": "markdown",
      "metadata": {
        "id": "FuzsoKdzUghM"
      },
      "source": [
        "## Mounting the drive"
      ]
    },
    {
      "cell_type": "code",
      "metadata": {
        "id": "IUCZVAmcUIrP",
        "colab": {
          "base_uri": "https://localhost:8080/"
        },
        "outputId": "d519e315-ca31-4d61-c654-70ffbd68233d"
      },
      "source": [
        "#mounting the drive\r\n",
        "from google.colab import drive\r\n",
        "drive.mount('/content/drive')"
      ],
      "execution_count": null,
      "outputs": [
        {
          "output_type": "stream",
          "text": [
            "Mounted at /content/drive\n"
          ],
          "name": "stdout"
        }
      ]
    },
    {
      "cell_type": "code",
      "metadata": {
        "id": "HspxpZf0UlnH"
      },
      "source": [
        "#drive path\r\n",
        "drive_path = \"drive/My Drive/DTU/Deep Learning/\""
      ],
      "execution_count": null,
      "outputs": []
    },
    {
      "cell_type": "markdown",
      "metadata": {
        "id": "Po568zVhUu8k"
      },
      "source": [
        "## Importing the images"
      ]
    },
    {
      "cell_type": "code",
      "metadata": {
        "id": "pzS2ghOfUx85"
      },
      "source": [
        "#unzipping the images from the drive into the local environment\r\n",
        "import zipfile\r\n",
        "with zipfile.ZipFile(drive_path+\"ProjetDL/images.zip\",\"r\") as zip_ref:\r\n",
        "  zip_ref.extractall(\"lesimages/\")"
      ],
      "execution_count": null,
      "outputs": []
    },
    {
      "cell_type": "code",
      "metadata": {
        "id": "bZo8jtMUU4n2",
        "colab": {
          "base_uri": "https://localhost:8080/"
        },
        "outputId": "d44f07d9-d68f-4e46-8abe-d481031ba1f3"
      },
      "source": [
        "#checking the loading\r\n",
        "import os\r\n",
        "root = 'lesimages/img_align_celeba'\r\n",
        "img_list = os.listdir(root)\r\n",
        "print(len(img_list))"
      ],
      "execution_count": null,
      "outputs": [
        {
          "output_type": "stream",
          "text": [
            "202599\n"
          ],
          "name": "stdout"
        }
      ]
    },
    {
      "cell_type": "markdown",
      "metadata": {
        "id": "YR3eRU4_VAdR"
      },
      "source": [
        "## Other imports needed"
      ]
    },
    {
      "cell_type": "code",
      "metadata": {
        "id": "at1BO8xcVEE7"
      },
      "source": [
        "import matplotlib.pyplot as plt\r\n",
        "import pandas as pd\r\n",
        "import numpy as np\r\n",
        "import torch\r\n",
        "import torchvision\r\n",
        "import torchvision.transforms as transforms\r\n",
        "from torch.utils import data\r\n",
        "from torchvision import transforms as T\r\n",
        "from torchvision.datasets import ImageFolder\r\n",
        "from PIL import Image\r\n",
        "import torch\r\n",
        "import os\r\n",
        "import random\r\n",
        "from torch.autograd import Variable\r\n",
        "import torch.nn as nn\r\n",
        "import torch.nn.functional as F\r\n",
        "import torch.optim as optim\r\n",
        "import torch.nn.init as init\r\n",
        "from torch.nn import Linear, Conv2d, BatchNorm2d, MaxPool2d, Dropout2d\r\n",
        "from torch.nn.functional import relu, elu, relu6, sigmoid, tanh, softmax\r\n",
        "import torch.optim as optim\r\n",
        "from google.colab.patches import cv2_imshow\r\n",
        "import cv2"
      ],
      "execution_count": null,
      "outputs": []
    },
    {
      "cell_type": "markdown",
      "metadata": {
        "id": "QIiPiDoxVQsx"
      },
      "source": [
        "# Creating the sets"
      ]
    },
    {
      "cell_type": "markdown",
      "metadata": {
        "id": "LmtJpAwvVYQt"
      },
      "source": [
        "## The DataLoader"
      ]
    },
    {
      "cell_type": "markdown",
      "metadata": {
        "id": "gJsc5Y0iVbzu"
      },
      "source": [
        "**Note :** The code for this dataloader is heavily inspired by https://github.com/yunjey/stargan/blob/master/data_loader.py"
      ]
    },
    {
      "cell_type": "code",
      "metadata": {
        "id": "2J195GWeVfFu"
      },
      "source": [
        "class CelebA(data.Dataset):\r\n",
        "    \"\"\"Dataset class for the CelebA dataset.\"\"\"\r\n",
        "\r\n",
        "    def __init__(self, image_dir, attr_path,  split_path, selected_attrs, transform, mode):\r\n",
        "        \"\"\"Initialize and preprocess the CelebA dataset.\"\"\"\r\n",
        "        self.image_dir = image_dir\r\n",
        "        self.attr_path = attr_path\r\n",
        "        self.split_path = split_path\r\n",
        "        self.selected_attrs = selected_attrs\r\n",
        "        self.transform = transform\r\n",
        "        self.mode = mode\r\n",
        "        self.train_dataset = []\r\n",
        "        self.train_dataset_with_added_bald = []\r\n",
        "        self.test_dataset = []\r\n",
        "        self.valid_dataset = []\r\n",
        "        self.all_dataset = []\r\n",
        "        self.all_dataset_with_added_bald = []\r\n",
        "        self.attr2idx = {}\r\n",
        "        self.idx2attr = {}\r\n",
        "        self.preprocess()\r\n",
        "\r\n",
        "        if mode == 'train':\r\n",
        "            self.num_images = len(self.train_dataset)\r\n",
        "        elif mode == 'valid':\r\n",
        "            self.num_images = len(self.valid_dataset)\r\n",
        "        else:\r\n",
        "            self.num_images = len(self.test_dataset)\r\n",
        "\r\n",
        "    def preprocess(self):\r\n",
        "        \"\"\"Preprocess the CelebA attribute file.\"\"\"\r\n",
        "        dict_split = dict()\r\n",
        "        lines = [line.rstrip() for line in open(self.split_path, 'r')]\r\n",
        "        for line in lines:\r\n",
        "          split = line.split()\r\n",
        "          dict_split[split[0]]=int(split[1])\r\n",
        "\r\n",
        "        lines = [line.rstrip() for line in open(self.attr_path, 'r')]\r\n",
        "        all_attr_names = lines[1].split()\r\n",
        "        for i, attr_name in enumerate(all_attr_names):\r\n",
        "            self.attr2idx[attr_name] = i\r\n",
        "            self.idx2attr[i] = attr_name\r\n",
        "\r\n",
        "        lines = lines[2:]\r\n",
        "        random.seed(1234)\r\n",
        "        random.shuffle(lines)\r\n",
        "        for i, line in enumerate(lines):\r\n",
        "            split = line.split()\r\n",
        "            filename = split[0]\r\n",
        "            values = split[1:]\r\n",
        "\r\n",
        "            label = []\r\n",
        "            all_label = []\r\n",
        "\r\n",
        "            for attr_name in self.attr2idx.keys():\r\n",
        "                idx = self.attr2idx[attr_name]\r\n",
        "                all_label.append(values[idx] == '1')\r\n",
        "            for attr_name in self.selected_attrs:\r\n",
        "                idx = self.attr2idx[attr_name]\r\n",
        "                label.append(values[idx] == '1')\r\n",
        "\r\n",
        "            if (self.mode == 'train'):\r\n",
        "              if (dict_split[filename] == 0):\r\n",
        "\r\n",
        "##### --- Uncomment the following lines in order to introduce data into de sets (repetition of images with a chosen attribute) --- #####\r\n",
        "                # if all_label[4] == True:\r\n",
        "                #   for i in range(1,10):\r\n",
        "                #     im = Image.open(\"lesimages/img_align_celeba/\"+filename) \r\n",
        "                #     im.save(\"lesimages/img_align_celeba/new_image_\"+filename.split(\".\")[0]+str(i)+\".png\")\r\n",
        "                #     self.train_dataset.append([\"new_image_\"+filename.split(\".\")[0]+str(i)+\".png\",label])\r\n",
        "                #     self.all_dataset.append([\"new_image_\"+filename.split(\".\")[0]+str(i)+\".png\", all_label])\r\n",
        "\r\n",
        "                self.train_dataset.append([filename, label])\r\n",
        "                self.all_dataset.append([filename, all_label])\r\n",
        "            elif (self.mode == 'valid'):\r\n",
        "              if (dict_split[filename] == 1):\r\n",
        "                self.valid_dataset.append((filename, label))\r\n",
        "                self.all_dataset.append([filename, all_label])\r\n",
        "            else:\r\n",
        "              if (dict_split[filename] == 2):\r\n",
        "                self.test_dataset.append((filename, label))\r\n",
        "                self.all_dataset.append([filename, all_label])\r\n",
        "\r\n",
        "        print('Finished preprocessing the CelebA dataset...')\r\n",
        "\r\n",
        "    def __getitem__(self, index):\r\n",
        "        \"\"\"Return one image and its corresponding attribute label.\"\"\"\r\n",
        "        dataset = self.train_dataset if self.mode == 'train' else self.valid_dataset if self.mode == 'valid' else self.test_dataset\r\n",
        "        filename, label = dataset[index]\r\n",
        "        image = Image.open(os.path.join(self.image_dir, filename))\r\n",
        "        return self.transform(image), torch.FloatTensor(label)\r\n",
        "\r\n",
        "    def __len__(self):\r\n",
        "        \"\"\"Return the number of images.\"\"\"\r\n",
        "        return self.num_images\r\n",
        "\r\n",
        "\r\n",
        "def get_loader(image_dir, attr_path, selected_attrs,  split_path, crop_size=178, image_size=128, \r\n",
        "               batch_size=16, dataset='CelebA', mode='train', num_workers=1):\r\n",
        "    \"\"\"Build and return a data loader.\"\"\"\r\n",
        "    transform = []\r\n",
        "    if mode == 'train':\r\n",
        "        transform.append(T.RandomHorizontalFlip())\r\n",
        "    transform.append(T.CenterCrop(crop_size))\r\n",
        "    transform.append(T.Resize(image_size))\r\n",
        "    transform.append(T.ToTensor())\r\n",
        "    transform.append(T.Normalize(mean=(0.5, 0.5, 0.5), std=(0.5, 0.5, 0.5)))\r\n",
        "    transform = T.Compose(transform)\r\n",
        "\r\n",
        "    if dataset == 'CelebA':\r\n",
        "        dataset = CelebA(image_dir, attr_path, split_path, selected_attrs, transform, mode)\r\n",
        "    elif dataset == 'RaFD':\r\n",
        "        dataset = ImageFolder(image_dir, transform)\r\n",
        "\r\n",
        "    data_loader = data.DataLoader(dataset=dataset,\r\n",
        "                                  batch_size=batch_size,\r\n",
        "                                  shuffle=(mode=='train'),\r\n",
        "                                  num_workers=num_workers)\r\n",
        "    return data_loader, dataset"
      ],
      "execution_count": null,
      "outputs": []
    },
    {
      "cell_type": "markdown",
      "metadata": {
        "id": "w3RSHPoWV9wb"
      },
      "source": [
        "## Creating the sets"
      ]
    },
    {
      "cell_type": "markdown",
      "metadata": {
        "id": "LuEv_xv2WaoG"
      },
      "source": [
        "### Common variables"
      ]
    },
    {
      "cell_type": "code",
      "metadata": {
        "id": "5v1sqe2pWdQk"
      },
      "source": [
        "#image directiory :\r\n",
        "celeba_image_dir = \"lesimages/img_align_celeba/\"\r\n",
        "#split\r\n",
        "split_path = drive_path+\"ProjetDL/list_eval_partition.txt\"\r\n",
        "#attributes\r\n",
        "attr_path = drive_path+\"ProjetDL/list_attr_celeba.txt\"\r\n",
        "#selected attribute :\r\n",
        "#selected_attrs = ['Attractive']\r\n",
        "selected_attrs = [\"Attractive\"]\r\n",
        "#crop size\r\n",
        "celeba_crop_size = 178\r\n",
        "#image size\r\n",
        "image_size = 128\r\n",
        "#batch_size\r\n",
        "batch_size = 24\r\n",
        "#num workers\r\n",
        "num_workers = 1"
      ],
      "execution_count": null,
      "outputs": []
    },
    {
      "cell_type": "markdown",
      "metadata": {
        "id": "V_gGUOGhWf2l"
      },
      "source": [
        "### Train set"
      ]
    },
    {
      "cell_type": "code",
      "metadata": {
        "id": "YfUM1yS2Wi5l",
        "colab": {
          "base_uri": "https://localhost:8080/"
        },
        "outputId": "79ea83c2-257e-4b52-d910-e034691a5e94"
      },
      "source": [
        "mode = 'train'\r\n",
        "trainloader, trainset = get_loader(celeba_image_dir, attr_path, selected_attrs, split_path,\r\n",
        "                                   celeba_crop_size, image_size, batch_size,\r\n",
        "                                   'CelebA', mode, num_workers)\r\n",
        "\r\n",
        "trainset_allattr = trainset.all_dataset"
      ],
      "execution_count": null,
      "outputs": [
        {
          "output_type": "stream",
          "text": [
            "Finished preprocessing the CelebA dataset...\n"
          ],
          "name": "stdout"
        }
      ]
    },
    {
      "cell_type": "markdown",
      "metadata": {
        "id": "gz_Z1v2ZWm2n"
      },
      "source": [
        "### Validation set"
      ]
    },
    {
      "cell_type": "code",
      "metadata": {
        "id": "j_PhIWCpWqIe",
        "colab": {
          "base_uri": "https://localhost:8080/"
        },
        "outputId": "8674aa69-14b0-4bf0-c39b-b93b2093620c"
      },
      "source": [
        "mode = 'valid'\r\n",
        "\r\n",
        "validloader, validset = get_loader(celeba_image_dir, attr_path, selected_attrs, split_path,\r\n",
        "                                   celeba_crop_size, image_size, batch_size,\r\n",
        "                                   'CelebA', mode, num_workers)"
      ],
      "execution_count": null,
      "outputs": [
        {
          "output_type": "stream",
          "text": [
            "Finished preprocessing the CelebA dataset...\n"
          ],
          "name": "stdout"
        }
      ]
    },
    {
      "cell_type": "markdown",
      "metadata": {
        "id": "DwLYLCNJWxQo"
      },
      "source": [
        "### Test set"
      ]
    },
    {
      "cell_type": "code",
      "metadata": {
        "id": "3yrOgOfuW2Wu",
        "colab": {
          "base_uri": "https://localhost:8080/"
        },
        "outputId": "16fad0e7-23df-4431-f739-b2403d98bacb"
      },
      "source": [
        "mode = 'test'\r\n",
        "\r\n",
        "testloader, testset = get_loader(celeba_image_dir, attr_path, selected_attrs, split_path,\r\n",
        "                                   celeba_crop_size, image_size, batch_size,\r\n",
        "                                   'CelebA', mode, num_workers)\r\n",
        "\r\n",
        "testset_allattr = testset.all_dataset"
      ],
      "execution_count": null,
      "outputs": [
        {
          "output_type": "stream",
          "text": [
            "Finished preprocessing the CelebA dataset...\n"
          ],
          "name": "stdout"
        }
      ]
    },
    {
      "cell_type": "markdown",
      "metadata": {
        "id": "UXCMrgv0Xl6b"
      },
      "source": [
        "## Printing some images\r\n"
      ]
    },
    {
      "cell_type": "code",
      "metadata": {
        "id": "d0NyP5yFXou4",
        "colab": {
          "base_uri": "https://localhost:8080/",
          "height": 216
        },
        "outputId": "e4ace7d2-ac30-42b3-bae7-2b7e04761847"
      },
      "source": [
        "train_data_iter = iter(trainloader)\r\n",
        "test_data_iter = iter(testloader)\r\n",
        "\r\n",
        "classes = ['Unattractive', 'Attractive']\r\n",
        "def imshow(img):\r\n",
        "    \"\"\" show an image \"\"\"\r\n",
        "    img = img / 2 + 0.5 # unnormalize\r\n",
        "    npimg = img.numpy()\r\n",
        "    plt.imshow(np.transpose(npimg, (1, 2, 0)))\r\n",
        "\r\n",
        "images, labels = train_data_iter.next()\r\n",
        "imshow(torchvision.utils.make_grid(images))\r\n",
        "\r\n",
        "print('  '.join('%5s' % classes[int(labels[j].item())] for j in range(batch_size)))"
      ],
      "execution_count": null,
      "outputs": [
        {
          "output_type": "stream",
          "text": [
            "Unattractive  Attractive  Unattractive  Attractive  Attractive  Attractive  Attractive  Unattractive  Unattractive  Unattractive  Attractive  Unattractive  Unattractive  Unattractive  Unattractive  Unattractive  Unattractive  Unattractive  Unattractive  Unattractive  Attractive  Unattractive  Unattractive  Attractive\n"
          ],
          "name": "stdout"
        },
        {
          "output_type": "display_data",
          "data": {
            "image/png": "[encoded data removed]",
            "text/plain": [
              "<Figure size 432x288 with 1 Axes>"
            ]
          },
          "metadata": {
            "tags": [],
            "needs_background": "light"
          }
        }
      ]
    },
    {
      "cell_type": "markdown",
      "metadata": {
        "id": "9Mj4NrV1XFpB"
      },
      "source": [
        "# Creating the model"
      ]
    },
    {
      "cell_type": "markdown",
      "metadata": {
        "id": "AVoYYN8nXe7u"
      },
      "source": [
        "## Model variables"
      ]
    },
    {
      "cell_type": "code",
      "metadata": {
        "id": "ytLbvk4pX2U2",
        "colab": {
          "base_uri": "https://localhost:8080/"
        },
        "outputId": "4d524762-ab2a-4565-dbe2-3614df4cbe0d"
      },
      "source": [
        "#getting the dimensions\r\n",
        "x, y = next(iter(trainloader))\r\n",
        "print(\"Batch dimension [B x C x H x W]:\", x.shape)\r\n",
        "channels_from_iter = x.shape[1]\r\n",
        "height_from_iter = x.shape[2]\r\n",
        "width_from_iter = x.shape[3]\r\n",
        "\r\n",
        "#hyperparameters for the model\r\n",
        "num_classes = len(selected_attrs)\r\n",
        "channels = channels_from_iter\r\n",
        "height = height_from_iter\r\n",
        "width = width_from_iter\r\n",
        "\r\n",
        "#first convolution\r\n",
        "num_filters_conv1 = 96\r\n",
        "kernel_size_conv1 = 3\r\n",
        "stride_conv1 = 1 \r\n",
        "padding_conv1 = 1\r\n",
        "\r\n",
        "#second convolution\r\n",
        "num_filters_conv2 = 128\r\n",
        "kernel_size_conv2 = 4 \r\n",
        "stride_conv2 = 2\r\n",
        "padding_conv2 = 2\r\n",
        "\r\n",
        "#hidden layer\r\n",
        "num_l1 = 96"
      ],
      "execution_count": null,
      "outputs": [
        {
          "output_type": "stream",
          "text": [
            "Batch dimension [B x C x H x W]: torch.Size([24, 3, 128, 128])\n"
          ],
          "name": "stdout"
        }
      ]
    },
    {
      "cell_type": "markdown",
      "metadata": {
        "id": "Mhq2NjRJYKt8"
      },
      "source": [
        "## Defining the model"
      ]
    },
    {
      "cell_type": "code",
      "metadata": {
        "id": "T_Yi9eoZYMiG",
        "colab": {
          "base_uri": "https://localhost:8080/"
        },
        "outputId": "894cf9b0-4164-4a73-f72b-6d5071b14864"
      },
      "source": [
        "def compute_conv_dim(dim_size):\r\n",
        "    return int((dim_size - kernel_size_conv2 + 2 * padding_conv2) / stride_conv2 + 1)\r\n",
        "\r\n",
        "class Net(nn.Module):\r\n",
        "    def __init__(self, num_classes):\r\n",
        "        super(Net, self).__init__()\r\n",
        "        self.num_classes = num_classes\r\n",
        "        \r\n",
        "        #first convolution\r\n",
        "        self.conv_1 = Conv2d(in_channels=channels,\r\n",
        "                             out_channels=num_filters_conv1,\r\n",
        "                             kernel_size=kernel_size_conv1,\r\n",
        "                             stride=stride_conv1,\r\n",
        "                             padding=padding_conv1)\r\n",
        "        \r\n",
        "        self.batch_norm1 = BatchNorm2d(num_filters_conv1)\r\n",
        "        \r\n",
        "\r\n",
        "        self.conv_2 = Conv2d(in_channels=num_filters_conv1,\r\n",
        "                             out_channels=num_filters_conv2,\r\n",
        "                             kernel_size=kernel_size_conv2,\r\n",
        "                             stride=stride_conv2,\r\n",
        "                             padding=padding_conv2)\r\n",
        "        \r\n",
        "        self.batch_norm2 = BatchNorm2d(num_filters_conv2)\r\n",
        "        \r\n",
        "        self.conv_out_height = compute_conv_dim(height)\r\n",
        "        self.conv_out_width = compute_conv_dim(width)\r\n",
        "\r\n",
        "\r\n",
        "        self.l1_in_features = num_filters_conv2 * self.conv_out_height * self.conv_out_width\r\n",
        " \r\n",
        "\r\n",
        "        #first layer\r\n",
        "        self.l_1 = Linear(in_features=self.l1_in_features,\r\n",
        "                          out_features=num_l1,\r\n",
        "                          bias=True)\r\n",
        "        \r\n",
        "        self.dropout = Dropout2d(p=0.3)\r\n",
        "\r\n",
        "        #output layer\r\n",
        "        self.l_out = Linear(in_features=num_l1, \r\n",
        "                            out_features=num_classes,\r\n",
        "                            bias=False)\r\n",
        "\r\n",
        "    def forward(self, x):\r\n",
        "      x = relu(self.conv_1(x))\r\n",
        "      x = self.batch_norm1(x)\r\n",
        "      x = relu(self.conv_2(x))\r\n",
        "      x = self.batch_norm2(x)\r\n",
        "      x = x.view(-1, self.l1_in_features)\r\n",
        "      x = relu(self.l_1(x))\r\n",
        "      x = self.dropout(x)\r\n",
        "      return torch.sigmoid(self.l_out(x))\r\n",
        "    \r\n",
        "\r\n",
        "net = Net(num_classes)\r\n",
        "net.cuda()\r\n",
        "print(net)"
      ],
      "execution_count": null,
      "outputs": [
        {
          "output_type": "stream",
          "text": [
            "Net(\n",
            "  (conv_1): Conv2d(3, 96, kernel_size=(3, 3), stride=(1, 1), padding=(1, 1))\n",
            "  (batch_norm1): BatchNorm2d(96, eps=1e-05, momentum=0.1, affine=True, track_running_stats=True)\n",
            "  (conv_2): Conv2d(96, 128, kernel_size=(4, 4), stride=(2, 2), padding=(2, 2))\n",
            "  (batch_norm2): BatchNorm2d(128, eps=1e-05, momentum=0.1, affine=True, track_running_stats=True)\n",
            "  (l_1): Linear(in_features=540800, out_features=96, bias=True)\n",
            "  (dropout): Dropout2d(p=0.3, inplace=False)\n",
            "  (l_out): Linear(in_features=96, out_features=1, bias=False)\n",
            ")\n"
          ],
          "name": "stdout"
        }
      ]
    },
    {
      "cell_type": "markdown",
      "metadata": {
        "id": "VPCEPMRnYa5m"
      },
      "source": [
        "# Training the model"
      ]
    },
    {
      "cell_type": "markdown",
      "metadata": {
        "id": "7HesUcSqYdS4"
      },
      "source": [
        "## Defining a loss function"
      ]
    },
    {
      "cell_type": "code",
      "metadata": {
        "id": "F1snY1imYfwW"
      },
      "source": [
        "criterion = nn.BCELoss() \r\n",
        "optimizer = optim.SGD(net.parameters(), lr=0.001, momentum=0.9) "
      ],
      "execution_count": null,
      "outputs": []
    },
    {
      "cell_type": "markdown",
      "metadata": {
        "id": "NsVqxwY8Yt90"
      },
      "source": [
        "## Training the model"
      ]
    },
    {
      "cell_type": "code",
      "metadata": {
        "id": "mc4BY5SaYwFP",
        "colab": {
          "base_uri": "https://localhost:8080/",
          "height": 295
        },
        "outputId": "178cc0b6-03db-4064-db98-68e02850e36d"
      },
      "source": [
        "num_epoch = 4\r\n",
        "\r\n",
        "train_iter = []\r\n",
        "train_loss = []\r\n",
        "train_accs = []\r\n",
        "valid_iter = []\r\n",
        "valid_loss = []\r\n",
        "valid_accs = []\r\n",
        "\r\n",
        "log_every = 1000\r\n",
        "eval_every = 1000\r\n",
        "\r\n",
        "from IPython.display import clear_output\r\n",
        "\r\n",
        "for epoch in range(num_epoch):\r\n",
        "\r\n",
        "    running_loss = 0.0\r\n",
        "    net.train()\r\n",
        "    correct = 0\r\n",
        "    total = 0\r\n",
        "\r\n",
        "    correct_valid = 0\r\n",
        "    total_valid = 0\r\n",
        "    for i, data in enumerate(trainloader, 0):\r\n",
        "\r\n",
        "##### --- Uncomment this part in order to do the validation as well --- #####\r\n",
        "        # if (i % eval_every == 0):\r\n",
        "        #   net.eval()\r\n",
        "        #   val_losses,val_accs,val_length = 0,0,0\r\n",
        "        #   with torch.no_grad():\r\n",
        "        #     for j,data in enumerate(validloader,0):\r\n",
        "        #       inputs_valid,labels_valid = data\r\n",
        "        #       inputs_valid, labels_valid = inputs_valid.cuda(), labels_valid.cuda()\r\n",
        "\r\n",
        "        #       output_valid = net(inputs_valid)\r\n",
        "        #       predicted_valid = torch.round(output_valid.data)\r\n",
        "        #       correct_valid += (predicted_valid == labels_valid).sum()\r\n",
        "        #       total_valid += labels_valid.size(0)\r\n",
        "\r\n",
        "        #       val_losses += criterion(output_valid,labels_valid).item()\r\n",
        "        #       val_accs += 100 * correct_valid.true_divide(total_valid)\r\n",
        "        #       val_length += 1 \r\n",
        "\r\n",
        "        #     valid_iter.append(i+len(trainloader)*epoch)\r\n",
        "        #     valid_loss.append(val_losses/val_length)\r\n",
        "        #     valid_accs.append(val_accs/val_length)\r\n",
        "\r\n",
        "        net.train()\r\n",
        "        inputs, labels = data\r\n",
        "\r\n",
        "        inputs, labels = inputs.cuda(), labels.cuda()\r\n",
        "        \r\n",
        "        # zero the parameter gradients\r\n",
        "        optimizer.zero_grad()\r\n",
        "\r\n",
        "        #forward\r\n",
        "        output = net(inputs)\r\n",
        "        loss = criterion(output, labels)\r\n",
        "        #backward\r\n",
        "        loss.backward()\r\n",
        "\r\n",
        "        #optimize\r\n",
        "        optimizer.step()\r\n",
        "\r\n",
        "\r\n",
        "        # print statistics\r\n",
        "        running_loss += loss.item()\r\n",
        "\r\n",
        "        predicted = torch.round(output.data)\r\n",
        "        correct += (predicted == labels).sum()\r\n",
        "        total += labels.size(0)\r\n",
        "\r\n",
        "        if i %100 == 99:\r\n",
        "          train_iter.append(i+len(trainloader)*epoch)\r\n",
        "          train_loss.append(float(running_loss / 100))\r\n",
        "          running_loss = 0.0\r\n",
        "          accuracy = 100 * correct.true_divide(total)\r\n",
        "          train_accs.append(float(accuracy))\r\n",
        "          total = 0\r\n",
        "          correct = 0\r\n",
        "\r\n",
        "        if i % log_every == 0:\r\n",
        "            fig = plt.figure(figsize=(12,4))\r\n",
        "            plt.subplot(1, 2, 1)\r\n",
        "            plt.plot(train_iter, train_loss, label='train_loss')\r\n",
        "\r\n",
        "##### --- Uncomment the following line in order to plot the validation evolution --- #####\r\n",
        "            # plt.plot(valid_iter, valid_loss, label='valid_loss')\r\n",
        "            plt.xlabel(\"Number of batches\")\r\n",
        "            plt.ylabel(\"Mean Loss of the 100 previous batches\")\r\n",
        "            plt.title(\"Loss of the model over the batches\")\r\n",
        "            plt.legend()\r\n",
        "\r\n",
        "\r\n",
        "            plt.subplot(1, 2, 2)\r\n",
        "            plt.plot(train_iter, train_accs, label='train_accs')\r\n",
        "          \r\n",
        "##### --- Uncomment the following line in order to plot the validation evolution --- #####\r\n",
        "            # plt.plot(valid_iter, valid_accs, label='valid_accs')\r\n",
        "            plt.legend()\r\n",
        "            plt.title(\"Accuracy of the model over the batches\")\r\n",
        "            plt.ylabel(\"Accuracy\")\r\n",
        "            plt.xlabel(\"Number of batches\")\r\n",
        "            plt.show()  \r\n",
        "            clear_output(wait=True)"
      ],
      "execution_count": null,
      "outputs": [
        {
          "output_type": "display_data",
          "data": {
            "image/png": "[encoded data removed]",
            "text/plain": [
              "<Figure size 864x288 with 2 Axes>"
            ]
          },
          "metadata": {
            "tags": [],
            "needs_background": "light"
          }
        }
      ]
    },
    {
      "cell_type": "markdown",
      "metadata": {
        "id": "ipEyd1kO96DN"
      },
      "source": [
        "# Saving the trained model"
      ]
    },
    {
      "cell_type": "code",
      "metadata": {
        "id": "JcNV5bOGCn8m"
      },
      "source": [
        "PATH = drive_path+\"ProjetDL/testdata_without.pth\"\n",
        "torch.save(net.state_dict(), PATH)"
      ],
      "execution_count": null,
      "outputs": []
    },
    {
      "cell_type": "code",
      "metadata": {
        "id": "OGT2O1nQ9dEd"
      },
      "source": [
        "PATH = drive_path+\"ProjetDL/testdata_with.pth\"\n",
        "torch.save(net.state_dict(), PATH)"
      ],
      "execution_count": null,
      "outputs": []
    },
    {
      "cell_type": "markdown",
      "metadata": {
        "id": "SOJayo9jZEEl"
      },
      "source": [
        "# Loading the trained model"
      ]
    },
    {
      "cell_type": "markdown",
      "metadata": {
        "id": "DrVG_hjRZGvu"
      },
      "source": [
        "The training take more than an hour each time. Therefore, when post-processing the results it is easier to load an already trained model."
      ]
    },
    {
      "cell_type": "markdown",
      "metadata": {
        "id": "vPgDmxkgZPUh"
      },
      "source": [
        "## The model trained without added data"
      ]
    },
    {
      "cell_type": "code",
      "metadata": {
        "id": "_-1zJ26pZR2i",
        "colab": {
          "base_uri": "https://localhost:8080/"
        },
        "outputId": "85439548-51d7-49cd-a8f2-93b6c5074b65"
      },
      "source": [
        "PATH = drive_path+\"ProjetDL/testdata_without.pth\"\r\n",
        "net.load_state_dict(torch.load(PATH))"
      ],
      "execution_count": null,
      "outputs": [
        {
          "output_type": "execute_result",
          "data": {
            "text/plain": [
              "<All keys matched successfully>"
            ]
          },
          "metadata": {
            "tags": []
          },
          "execution_count": 15
        }
      ]
    },
    {
      "cell_type": "markdown",
      "metadata": {
        "id": "kYeBtULjZnOM"
      },
      "source": [
        "## The model trained with added data"
      ]
    },
    {
      "cell_type": "code",
      "metadata": {
        "id": "QASZya0lZpWK",
        "colab": {
          "base_uri": "https://localhost:8080/"
        },
        "outputId": "94d44eff-f516-44a1-bb84-adef17c53361"
      },
      "source": [
        "PATH = drive_path+\"ProjetDL/testdata_with.pth\"\r\n",
        "net.load_state_dict(torch.load(PATH))"
      ],
      "execution_count": null,
      "outputs": [
        {
          "output_type": "execute_result",
          "data": {
            "text/plain": [
              "<All keys matched successfully>"
            ]
          },
          "metadata": {
            "tags": []
          },
          "execution_count": 33
        }
      ]
    },
    {
      "cell_type": "markdown",
      "metadata": {
        "id": "YoAkHSx5aBHI"
      },
      "source": [
        "# Viewing the results"
      ]
    },
    {
      "cell_type": "markdown",
      "metadata": {
        "id": "Yli1JV8paDsE"
      },
      "source": [
        "## Testing the model"
      ]
    },
    {
      "cell_type": "markdown",
      "metadata": {
        "id": "-_QolCvXa1HC"
      },
      "source": [
        "The model that needs to be loaded here is the one trained without the added data."
      ]
    },
    {
      "cell_type": "markdown",
      "metadata": {
        "id": "kxy8CO28aNLC"
      },
      "source": [
        "### Creating the dataframe"
      ]
    },
    {
      "cell_type": "code",
      "metadata": {
        "id": "jcQE7jlCaF6J"
      },
      "source": [
        "##### TEST DATAFRAME #####\r\n",
        "test_df_without_data = pd.DataFrame(testset_allattr)\r\n",
        "test_df_without_data.columns = [\"image_link\",\"attrs\"]\r\n",
        "test_df_without_data[[key for key in testset.attr2idx.keys()]] = test_df_without_data['attrs'].apply(pd.Series)\r\n",
        "test_df_without_data.pop(\"attrs\")\r\n",
        "test_df_without_data[\"status\"]=[\"Not_known_yet\" for i in range(len(test_df_without_data.index))]\r\n",
        "test_df_without_data[\"predicted_value\"]=[str(0) for i in range(len(test_df_without_data.index))]\r\n",
        "\r\n",
        "##### TRAIN DATAFRAME #####\r\n",
        "train_df_without_data = pd.DataFrame(trainset_allattr)\r\n",
        "train_df_without_data.columns = [\"image_link\",\"attrs\"]\r\n",
        "train_df_without_data[[key for key in trainset.attr2idx.keys()]] = train_df_without_data['attrs'].apply(pd.Series)\r\n",
        "del train_df_without_data[\"attrs\"]"
      ],
      "execution_count": null,
      "outputs": []
    },
    {
      "cell_type": "markdown",
      "metadata": {
        "id": "yDdMCjz5aZar"
      },
      "source": [
        "### Accuracy of the model"
      ]
    },
    {
      "cell_type": "code",
      "metadata": {
        "id": "GPaCs3BmacJU",
        "colab": {
          "base_uri": "https://localhost:8080/"
        },
        "outputId": "02409ee5-b87e-488d-f00d-6845c5113c66"
      },
      "source": [
        "correct = 0\r\n",
        "total = 0\r\n",
        "idx = 0 \r\n",
        "not_predicted_as_attractive_idx_without_data = []\r\n",
        "\r\n",
        "net.eval()\r\n",
        "for data in testloader:\r\n",
        "    images, labels = data\r\n",
        "    labels = labels.cuda()\r\n",
        "    outputs = net(images.cuda())\r\n",
        "    predicted_raw = outputs.data\r\n",
        "    predicted = torch.round(outputs.data)\r\n",
        "    predicted = predicted.cuda()\r\n",
        "    total += labels.size(0)\r\n",
        "    correct += (predicted == labels).sum()\r\n",
        "    for predict,predict_raw, real in zip(predicted,predicted_raw,labels):\r\n",
        "      test_df_without_data.at[idx,\"predicted_value\"] = str(predict_raw.item())\r\n",
        "      if predict==real:\r\n",
        "        if real==1:\r\n",
        "          test_df_without_data.at[idx,\"status\"] = \"True Positive\"\r\n",
        "        else:\r\n",
        "          test_df_without_data.at[idx,\"status\"] = \"True Negative\"\r\n",
        "      else:\r\n",
        "        if real==1:\r\n",
        "          test_df_without_data.at[idx,\"status\"] = \"False Negative\"\r\n",
        "        else:\r\n",
        "          test_df_without_data.at[idx,\"status\"] = \"False Positive\"        \r\n",
        "\r\n",
        "      if predict==0:\r\n",
        "        not_predicted_as_attractive_idx_without_data.append(idx)\r\n",
        "      idx+=1\r\n",
        "\r\n",
        "print(total)\r\n",
        "print(correct)\r\n",
        "\r\n",
        "print('Accuracy of the network on the {} test images: {:4.2f} %'.format(\r\n",
        "    len(testset), 100 * correct.true_divide(total)))"
      ],
      "execution_count": null,
      "outputs": [
        {
          "output_type": "stream",
          "text": [
            "19962\n",
            "tensor(16000, device='cuda:0')\n",
            "Accuracy of the network on the 19962 test images: 80.15 %\n"
          ],
          "name": "stdout"
        }
      ]
    },
    {
      "cell_type": "code",
      "metadata": {
        "id": "1b6Q2ZKEdxOZ",
        "colab": {
          "base_uri": "https://localhost:8080/",
          "height": 299
        },
        "outputId": "ec75c364-53e9-47a1-e32b-d97b5df9ed8f"
      },
      "source": [
        "test_df_without_data['predicted_value']= test_df_without_data['predicted_value'].apply(lambda x : float(x))\r\n",
        "attractive_predicted_df = test_df_without_data.drop(not_predicted_as_attractive_idx_without_data)\r\n",
        "attractive_predicted_df.head()"
      ],
      "execution_count": null,
      "outputs": [
        {
          "output_type": "execute_result",
          "data": {
            "text/html": [
              "<div>\n",
              "<style scoped>\n",
              "    .dataframe tbody tr th:only-of-type {\n",
              "        vertical-align: middle;\n",
              "    }\n",
              "\n",
              "    .dataframe tbody tr th {\n",
              "        vertical-align: top;\n",
              "    }\n",
              "\n",
              "    .dataframe thead th {\n",
              "        text-align: right;\n",
              "    }\n",
              "</style>\n",
              "<table border=\"1\" class=\"dataframe\">\n",
              "  <thead>\n",
              "    <tr style=\"text-align: right;\">\n",
              "      <th></th>\n",
              "      <th>image_link</th>\n",
              "      <th>5_o_Clock_Shadow</th>\n",
              "      <th>Arched_Eyebrows</th>\n",
              "      <th>Attractive</th>\n",
              "      <th>Bags_Under_Eyes</th>\n",
              "      <th>Bald</th>\n",
              "      <th>Bangs</th>\n",
              "      <th>Big_Lips</th>\n",
              "      <th>Big_Nose</th>\n",
              "      <th>Black_Hair</th>\n",
              "      <th>Blond_Hair</th>\n",
              "      <th>Blurry</th>\n",
              "      <th>Brown_Hair</th>\n",
              "      <th>Bushy_Eyebrows</th>\n",
              "      <th>Chubby</th>\n",
              "      <th>Double_Chin</th>\n",
              "      <th>Eyeglasses</th>\n",
              "      <th>Goatee</th>\n",
              "      <th>Gray_Hair</th>\n",
              "      <th>Heavy_Makeup</th>\n",
              "      <th>High_Cheekbones</th>\n",
              "      <th>Male</th>\n",
              "      <th>Mouth_Slightly_Open</th>\n",
              "      <th>Mustache</th>\n",
              "      <th>Narrow_Eyes</th>\n",
              "      <th>No_Beard</th>\n",
              "      <th>Oval_Face</th>\n",
              "      <th>Pale_Skin</th>\n",
              "      <th>Pointy_Nose</th>\n",
              "      <th>Receding_Hairline</th>\n",
              "      <th>Rosy_Cheeks</th>\n",
              "      <th>Sideburns</th>\n",
              "      <th>Smiling</th>\n",
              "      <th>Straight_Hair</th>\n",
              "      <th>Wavy_Hair</th>\n",
              "      <th>Wearing_Earrings</th>\n",
              "      <th>Wearing_Hat</th>\n",
              "      <th>Wearing_Lipstick</th>\n",
              "      <th>Wearing_Necklace</th>\n",
              "      <th>Wearing_Necktie</th>\n",
              "      <th>Young</th>\n",
              "      <th>status</th>\n",
              "      <th>predicted_value</th>\n",
              "    </tr>\n",
              "  </thead>\n",
              "  <tbody>\n",
              "    <tr>\n",
              "      <th>0</th>\n",
              "      <td>199242.jpg</td>\n",
              "      <td>False</td>\n",
              "      <td>False</td>\n",
              "      <td>False</td>\n",
              "      <td>False</td>\n",
              "      <td>False</td>\n",
              "      <td>True</td>\n",
              "      <td>False</td>\n",
              "      <td>False</td>\n",
              "      <td>False</td>\n",
              "      <td>False</td>\n",
              "      <td>False</td>\n",
              "      <td>False</td>\n",
              "      <td>False</td>\n",
              "      <td>False</td>\n",
              "      <td>False</td>\n",
              "      <td>False</td>\n",
              "      <td>False</td>\n",
              "      <td>False</td>\n",
              "      <td>False</td>\n",
              "      <td>False</td>\n",
              "      <td>False</td>\n",
              "      <td>False</td>\n",
              "      <td>False</td>\n",
              "      <td>True</td>\n",
              "      <td>True</td>\n",
              "      <td>False</td>\n",
              "      <td>False</td>\n",
              "      <td>False</td>\n",
              "      <td>False</td>\n",
              "      <td>False</td>\n",
              "      <td>False</td>\n",
              "      <td>False</td>\n",
              "      <td>False</td>\n",
              "      <td>True</td>\n",
              "      <td>False</td>\n",
              "      <td>False</td>\n",
              "      <td>True</td>\n",
              "      <td>False</td>\n",
              "      <td>False</td>\n",
              "      <td>True</td>\n",
              "      <td>False Positive</td>\n",
              "      <td>0.514208</td>\n",
              "    </tr>\n",
              "    <tr>\n",
              "      <th>1</th>\n",
              "      <td>189733.jpg</td>\n",
              "      <td>False</td>\n",
              "      <td>False</td>\n",
              "      <td>True</td>\n",
              "      <td>False</td>\n",
              "      <td>False</td>\n",
              "      <td>True</td>\n",
              "      <td>True</td>\n",
              "      <td>False</td>\n",
              "      <td>False</td>\n",
              "      <td>True</td>\n",
              "      <td>False</td>\n",
              "      <td>False</td>\n",
              "      <td>False</td>\n",
              "      <td>False</td>\n",
              "      <td>False</td>\n",
              "      <td>False</td>\n",
              "      <td>False</td>\n",
              "      <td>False</td>\n",
              "      <td>True</td>\n",
              "      <td>True</td>\n",
              "      <td>False</td>\n",
              "      <td>False</td>\n",
              "      <td>False</td>\n",
              "      <td>False</td>\n",
              "      <td>True</td>\n",
              "      <td>False</td>\n",
              "      <td>False</td>\n",
              "      <td>True</td>\n",
              "      <td>False</td>\n",
              "      <td>True</td>\n",
              "      <td>False</td>\n",
              "      <td>True</td>\n",
              "      <td>False</td>\n",
              "      <td>True</td>\n",
              "      <td>False</td>\n",
              "      <td>False</td>\n",
              "      <td>True</td>\n",
              "      <td>True</td>\n",
              "      <td>False</td>\n",
              "      <td>True</td>\n",
              "      <td>True Positive</td>\n",
              "      <td>0.727866</td>\n",
              "    </tr>\n",
              "    <tr>\n",
              "      <th>6</th>\n",
              "      <td>185254.jpg</td>\n",
              "      <td>False</td>\n",
              "      <td>True</td>\n",
              "      <td>True</td>\n",
              "      <td>False</td>\n",
              "      <td>False</td>\n",
              "      <td>False</td>\n",
              "      <td>False</td>\n",
              "      <td>False</td>\n",
              "      <td>False</td>\n",
              "      <td>True</td>\n",
              "      <td>False</td>\n",
              "      <td>False</td>\n",
              "      <td>False</td>\n",
              "      <td>False</td>\n",
              "      <td>False</td>\n",
              "      <td>False</td>\n",
              "      <td>False</td>\n",
              "      <td>False</td>\n",
              "      <td>True</td>\n",
              "      <td>True</td>\n",
              "      <td>False</td>\n",
              "      <td>False</td>\n",
              "      <td>False</td>\n",
              "      <td>False</td>\n",
              "      <td>True</td>\n",
              "      <td>False</td>\n",
              "      <td>False</td>\n",
              "      <td>True</td>\n",
              "      <td>False</td>\n",
              "      <td>True</td>\n",
              "      <td>False</td>\n",
              "      <td>True</td>\n",
              "      <td>False</td>\n",
              "      <td>False</td>\n",
              "      <td>True</td>\n",
              "      <td>False</td>\n",
              "      <td>True</td>\n",
              "      <td>False</td>\n",
              "      <td>False</td>\n",
              "      <td>True</td>\n",
              "      <td>True Positive</td>\n",
              "      <td>0.744254</td>\n",
              "    </tr>\n",
              "    <tr>\n",
              "      <th>8</th>\n",
              "      <td>187591.jpg</td>\n",
              "      <td>False</td>\n",
              "      <td>True</td>\n",
              "      <td>True</td>\n",
              "      <td>True</td>\n",
              "      <td>False</td>\n",
              "      <td>False</td>\n",
              "      <td>True</td>\n",
              "      <td>True</td>\n",
              "      <td>True</td>\n",
              "      <td>False</td>\n",
              "      <td>False</td>\n",
              "      <td>False</td>\n",
              "      <td>True</td>\n",
              "      <td>False</td>\n",
              "      <td>False</td>\n",
              "      <td>False</td>\n",
              "      <td>False</td>\n",
              "      <td>False</td>\n",
              "      <td>False</td>\n",
              "      <td>True</td>\n",
              "      <td>True</td>\n",
              "      <td>True</td>\n",
              "      <td>False</td>\n",
              "      <td>False</td>\n",
              "      <td>False</td>\n",
              "      <td>False</td>\n",
              "      <td>False</td>\n",
              "      <td>False</td>\n",
              "      <td>False</td>\n",
              "      <td>False</td>\n",
              "      <td>False</td>\n",
              "      <td>True</td>\n",
              "      <td>False</td>\n",
              "      <td>False</td>\n",
              "      <td>False</td>\n",
              "      <td>False</td>\n",
              "      <td>False</td>\n",
              "      <td>False</td>\n",
              "      <td>True</td>\n",
              "      <td>True</td>\n",
              "      <td>True Positive</td>\n",
              "      <td>0.616067</td>\n",
              "    </tr>\n",
              "    <tr>\n",
              "      <th>12</th>\n",
              "      <td>183249.jpg</td>\n",
              "      <td>False</td>\n",
              "      <td>True</td>\n",
              "      <td>True</td>\n",
              "      <td>False</td>\n",
              "      <td>False</td>\n",
              "      <td>True</td>\n",
              "      <td>True</td>\n",
              "      <td>False</td>\n",
              "      <td>False</td>\n",
              "      <td>True</td>\n",
              "      <td>False</td>\n",
              "      <td>False</td>\n",
              "      <td>False</td>\n",
              "      <td>False</td>\n",
              "      <td>False</td>\n",
              "      <td>False</td>\n",
              "      <td>False</td>\n",
              "      <td>False</td>\n",
              "      <td>True</td>\n",
              "      <td>True</td>\n",
              "      <td>False</td>\n",
              "      <td>True</td>\n",
              "      <td>False</td>\n",
              "      <td>False</td>\n",
              "      <td>True</td>\n",
              "      <td>True</td>\n",
              "      <td>False</td>\n",
              "      <td>True</td>\n",
              "      <td>False</td>\n",
              "      <td>True</td>\n",
              "      <td>False</td>\n",
              "      <td>True</td>\n",
              "      <td>False</td>\n",
              "      <td>False</td>\n",
              "      <td>True</td>\n",
              "      <td>False</td>\n",
              "      <td>True</td>\n",
              "      <td>False</td>\n",
              "      <td>False</td>\n",
              "      <td>True</td>\n",
              "      <td>True Positive</td>\n",
              "      <td>0.836090</td>\n",
              "    </tr>\n",
              "  </tbody>\n",
              "</table>\n",
              "</div>"
            ],
            "text/plain": [
              "    image_link  5_o_Clock_Shadow  ...          status  predicted_value\n",
              "0   199242.jpg             False  ...  False Positive         0.514208\n",
              "1   189733.jpg             False  ...   True Positive         0.727866\n",
              "6   185254.jpg             False  ...   True Positive         0.744254\n",
              "8   187591.jpg             False  ...   True Positive         0.616067\n",
              "12  183249.jpg             False  ...   True Positive         0.836090\n",
              "\n",
              "[5 rows x 43 columns]"
            ]
          },
          "metadata": {
            "tags": []
          },
          "execution_count": 18
        }
      ]
    },
    {
      "cell_type": "markdown",
      "metadata": {
        "id": "EYhAk7q0cWmv"
      },
      "source": [
        "## Best and worst classified pictures"
      ]
    },
    {
      "cell_type": "markdown",
      "metadata": {
        "id": "TB6uSRMzd8DZ"
      },
      "source": [
        "**1. Least attractive**"
      ]
    },
    {
      "cell_type": "code",
      "metadata": {
        "id": "-RfZiXMod_jv",
        "colab": {
          "base_uri": "https://localhost:8080/",
          "height": 299
        },
        "outputId": "401a2b0b-222a-4764-8194-c9f448af8c10"
      },
      "source": [
        "test_df_without_data.sort_values(by='predicted_value').head()"
      ],
      "execution_count": null,
      "outputs": [
        {
          "output_type": "execute_result",
          "data": {
            "text/html": [
              "<div>\n",
              "<style scoped>\n",
              "    .dataframe tbody tr th:only-of-type {\n",
              "        vertical-align: middle;\n",
              "    }\n",
              "\n",
              "    .dataframe tbody tr th {\n",
              "        vertical-align: top;\n",
              "    }\n",
              "\n",
              "    .dataframe thead th {\n",
              "        text-align: right;\n",
              "    }\n",
              "</style>\n",
              "<table border=\"1\" class=\"dataframe\">\n",
              "  <thead>\n",
              "    <tr style=\"text-align: right;\">\n",
              "      <th></th>\n",
              "      <th>image_link</th>\n",
              "      <th>5_o_Clock_Shadow</th>\n",
              "      <th>Arched_Eyebrows</th>\n",
              "      <th>Attractive</th>\n",
              "      <th>Bags_Under_Eyes</th>\n",
              "      <th>Bald</th>\n",
              "      <th>Bangs</th>\n",
              "      <th>Big_Lips</th>\n",
              "      <th>Big_Nose</th>\n",
              "      <th>Black_Hair</th>\n",
              "      <th>Blond_Hair</th>\n",
              "      <th>Blurry</th>\n",
              "      <th>Brown_Hair</th>\n",
              "      <th>Bushy_Eyebrows</th>\n",
              "      <th>Chubby</th>\n",
              "      <th>Double_Chin</th>\n",
              "      <th>Eyeglasses</th>\n",
              "      <th>Goatee</th>\n",
              "      <th>Gray_Hair</th>\n",
              "      <th>Heavy_Makeup</th>\n",
              "      <th>High_Cheekbones</th>\n",
              "      <th>Male</th>\n",
              "      <th>Mouth_Slightly_Open</th>\n",
              "      <th>Mustache</th>\n",
              "      <th>Narrow_Eyes</th>\n",
              "      <th>No_Beard</th>\n",
              "      <th>Oval_Face</th>\n",
              "      <th>Pale_Skin</th>\n",
              "      <th>Pointy_Nose</th>\n",
              "      <th>Receding_Hairline</th>\n",
              "      <th>Rosy_Cheeks</th>\n",
              "      <th>Sideburns</th>\n",
              "      <th>Smiling</th>\n",
              "      <th>Straight_Hair</th>\n",
              "      <th>Wavy_Hair</th>\n",
              "      <th>Wearing_Earrings</th>\n",
              "      <th>Wearing_Hat</th>\n",
              "      <th>Wearing_Lipstick</th>\n",
              "      <th>Wearing_Necklace</th>\n",
              "      <th>Wearing_Necktie</th>\n",
              "      <th>Young</th>\n",
              "      <th>status</th>\n",
              "      <th>predicted_value</th>\n",
              "    </tr>\n",
              "  </thead>\n",
              "  <tbody>\n",
              "    <tr>\n",
              "      <th>8616</th>\n",
              "      <td>186706.jpg</td>\n",
              "      <td>False</td>\n",
              "      <td>False</td>\n",
              "      <td>False</td>\n",
              "      <td>True</td>\n",
              "      <td>True</td>\n",
              "      <td>False</td>\n",
              "      <td>False</td>\n",
              "      <td>True</td>\n",
              "      <td>False</td>\n",
              "      <td>False</td>\n",
              "      <td>False</td>\n",
              "      <td>False</td>\n",
              "      <td>False</td>\n",
              "      <td>False</td>\n",
              "      <td>False</td>\n",
              "      <td>True</td>\n",
              "      <td>False</td>\n",
              "      <td>False</td>\n",
              "      <td>False</td>\n",
              "      <td>False</td>\n",
              "      <td>True</td>\n",
              "      <td>False</td>\n",
              "      <td>False</td>\n",
              "      <td>False</td>\n",
              "      <td>True</td>\n",
              "      <td>False</td>\n",
              "      <td>False</td>\n",
              "      <td>False</td>\n",
              "      <td>False</td>\n",
              "      <td>False</td>\n",
              "      <td>False</td>\n",
              "      <td>False</td>\n",
              "      <td>False</td>\n",
              "      <td>False</td>\n",
              "      <td>False</td>\n",
              "      <td>False</td>\n",
              "      <td>False</td>\n",
              "      <td>False</td>\n",
              "      <td>True</td>\n",
              "      <td>False</td>\n",
              "      <td>True Negative</td>\n",
              "      <td>7.850181e-09</td>\n",
              "    </tr>\n",
              "    <tr>\n",
              "      <th>4856</th>\n",
              "      <td>195079.jpg</td>\n",
              "      <td>False</td>\n",
              "      <td>False</td>\n",
              "      <td>False</td>\n",
              "      <td>True</td>\n",
              "      <td>False</td>\n",
              "      <td>False</td>\n",
              "      <td>False</td>\n",
              "      <td>True</td>\n",
              "      <td>False</td>\n",
              "      <td>False</td>\n",
              "      <td>False</td>\n",
              "      <td>False</td>\n",
              "      <td>False</td>\n",
              "      <td>False</td>\n",
              "      <td>False</td>\n",
              "      <td>True</td>\n",
              "      <td>False</td>\n",
              "      <td>True</td>\n",
              "      <td>False</td>\n",
              "      <td>False</td>\n",
              "      <td>True</td>\n",
              "      <td>True</td>\n",
              "      <td>False</td>\n",
              "      <td>False</td>\n",
              "      <td>True</td>\n",
              "      <td>False</td>\n",
              "      <td>False</td>\n",
              "      <td>False</td>\n",
              "      <td>True</td>\n",
              "      <td>False</td>\n",
              "      <td>False</td>\n",
              "      <td>False</td>\n",
              "      <td>False</td>\n",
              "      <td>False</td>\n",
              "      <td>False</td>\n",
              "      <td>False</td>\n",
              "      <td>False</td>\n",
              "      <td>False</td>\n",
              "      <td>False</td>\n",
              "      <td>False</td>\n",
              "      <td>True Negative</td>\n",
              "      <td>1.184525e-08</td>\n",
              "    </tr>\n",
              "    <tr>\n",
              "      <th>1689</th>\n",
              "      <td>184915.jpg</td>\n",
              "      <td>False</td>\n",
              "      <td>False</td>\n",
              "      <td>False</td>\n",
              "      <td>False</td>\n",
              "      <td>False</td>\n",
              "      <td>False</td>\n",
              "      <td>False</td>\n",
              "      <td>True</td>\n",
              "      <td>False</td>\n",
              "      <td>False</td>\n",
              "      <td>False</td>\n",
              "      <td>False</td>\n",
              "      <td>False</td>\n",
              "      <td>False</td>\n",
              "      <td>False</td>\n",
              "      <td>True</td>\n",
              "      <td>False</td>\n",
              "      <td>True</td>\n",
              "      <td>False</td>\n",
              "      <td>False</td>\n",
              "      <td>True</td>\n",
              "      <td>True</td>\n",
              "      <td>False</td>\n",
              "      <td>False</td>\n",
              "      <td>True</td>\n",
              "      <td>False</td>\n",
              "      <td>False</td>\n",
              "      <td>False</td>\n",
              "      <td>True</td>\n",
              "      <td>False</td>\n",
              "      <td>False</td>\n",
              "      <td>False</td>\n",
              "      <td>False</td>\n",
              "      <td>False</td>\n",
              "      <td>False</td>\n",
              "      <td>False</td>\n",
              "      <td>False</td>\n",
              "      <td>False</td>\n",
              "      <td>True</td>\n",
              "      <td>False</td>\n",
              "      <td>True Negative</td>\n",
              "      <td>1.374571e-08</td>\n",
              "    </tr>\n",
              "    <tr>\n",
              "      <th>4264</th>\n",
              "      <td>197504.jpg</td>\n",
              "      <td>False</td>\n",
              "      <td>False</td>\n",
              "      <td>False</td>\n",
              "      <td>False</td>\n",
              "      <td>True</td>\n",
              "      <td>False</td>\n",
              "      <td>False</td>\n",
              "      <td>True</td>\n",
              "      <td>False</td>\n",
              "      <td>False</td>\n",
              "      <td>False</td>\n",
              "      <td>False</td>\n",
              "      <td>False</td>\n",
              "      <td>False</td>\n",
              "      <td>False</td>\n",
              "      <td>True</td>\n",
              "      <td>False</td>\n",
              "      <td>False</td>\n",
              "      <td>False</td>\n",
              "      <td>True</td>\n",
              "      <td>True</td>\n",
              "      <td>False</td>\n",
              "      <td>True</td>\n",
              "      <td>False</td>\n",
              "      <td>True</td>\n",
              "      <td>True</td>\n",
              "      <td>False</td>\n",
              "      <td>False</td>\n",
              "      <td>True</td>\n",
              "      <td>False</td>\n",
              "      <td>False</td>\n",
              "      <td>False</td>\n",
              "      <td>False</td>\n",
              "      <td>False</td>\n",
              "      <td>False</td>\n",
              "      <td>False</td>\n",
              "      <td>False</td>\n",
              "      <td>False</td>\n",
              "      <td>False</td>\n",
              "      <td>False</td>\n",
              "      <td>True Negative</td>\n",
              "      <td>1.812096e-08</td>\n",
              "    </tr>\n",
              "    <tr>\n",
              "      <th>5602</th>\n",
              "      <td>185465.jpg</td>\n",
              "      <td>False</td>\n",
              "      <td>False</td>\n",
              "      <td>False</td>\n",
              "      <td>False</td>\n",
              "      <td>False</td>\n",
              "      <td>False</td>\n",
              "      <td>True</td>\n",
              "      <td>True</td>\n",
              "      <td>True</td>\n",
              "      <td>False</td>\n",
              "      <td>False</td>\n",
              "      <td>False</td>\n",
              "      <td>False</td>\n",
              "      <td>True</td>\n",
              "      <td>False</td>\n",
              "      <td>False</td>\n",
              "      <td>True</td>\n",
              "      <td>False</td>\n",
              "      <td>False</td>\n",
              "      <td>False</td>\n",
              "      <td>True</td>\n",
              "      <td>False</td>\n",
              "      <td>True</td>\n",
              "      <td>False</td>\n",
              "      <td>False</td>\n",
              "      <td>False</td>\n",
              "      <td>False</td>\n",
              "      <td>False</td>\n",
              "      <td>True</td>\n",
              "      <td>False</td>\n",
              "      <td>True</td>\n",
              "      <td>False</td>\n",
              "      <td>False</td>\n",
              "      <td>False</td>\n",
              "      <td>False</td>\n",
              "      <td>False</td>\n",
              "      <td>False</td>\n",
              "      <td>False</td>\n",
              "      <td>False</td>\n",
              "      <td>True</td>\n",
              "      <td>True Negative</td>\n",
              "      <td>1.946956e-08</td>\n",
              "    </tr>\n",
              "  </tbody>\n",
              "</table>\n",
              "</div>"
            ],
            "text/plain": [
              "      image_link  5_o_Clock_Shadow  ...         status  predicted_value\n",
              "8616  186706.jpg             False  ...  True Negative     7.850181e-09\n",
              "4856  195079.jpg             False  ...  True Negative     1.184525e-08\n",
              "1689  184915.jpg             False  ...  True Negative     1.374571e-08\n",
              "4264  197504.jpg             False  ...  True Negative     1.812096e-08\n",
              "5602  185465.jpg             False  ...  True Negative     1.946956e-08\n",
              "\n",
              "[5 rows x 43 columns]"
            ]
          },
          "metadata": {
            "tags": []
          },
          "execution_count": 19
        }
      ]
    },
    {
      "cell_type": "code",
      "metadata": {
        "id": "p5Fi8EOucu5v",
        "colab": {
          "base_uri": "https://localhost:8080/",
          "height": 235
        },
        "outputId": "4b877de1-b3eb-4998-8799-ebaeefbb5848"
      },
      "source": [
        "#Least attractive pictures\r\n",
        "path0 = r'lesimages/img_align_celeba/'+'186706.jpg'\r\n",
        "img0 = cv2.imread(path0) \r\n",
        "cv2_imshow(img0)"
      ],
      "execution_count": null,
      "outputs": [
        {
          "output_type": "display_data",
          "data": {
            "image/png": "[encoded data removed]",
            "text/plain": [
              "<PIL.Image.Image image mode=RGB size=178x218 at 0x7F6F800CF9E8>"
            ]
          },
          "metadata": {
            "tags": []
          }
        }
      ]
    },
    {
      "cell_type": "markdown",
      "metadata": {
        "id": "E0OfXGP6eVM7"
      },
      "source": [
        "**2. Most attractive**"
      ]
    },
    {
      "cell_type": "code",
      "metadata": {
        "id": "fiQIFulqeX5w",
        "colab": {
          "base_uri": "https://localhost:8080/",
          "height": 299
        },
        "outputId": "cf6743fa-f033-4bc0-ab5f-6bc43465d152"
      },
      "source": [
        "test_df_without_data.sort_values(by='predicted_value', ascending=False).head()"
      ],
      "execution_count": null,
      "outputs": [
        {
          "output_type": "execute_result",
          "data": {
            "text/html": [
              "<div>\n",
              "<style scoped>\n",
              "    .dataframe tbody tr th:only-of-type {\n",
              "        vertical-align: middle;\n",
              "    }\n",
              "\n",
              "    .dataframe tbody tr th {\n",
              "        vertical-align: top;\n",
              "    }\n",
              "\n",
              "    .dataframe thead th {\n",
              "        text-align: right;\n",
              "    }\n",
              "</style>\n",
              "<table border=\"1\" class=\"dataframe\">\n",
              "  <thead>\n",
              "    <tr style=\"text-align: right;\">\n",
              "      <th></th>\n",
              "      <th>image_link</th>\n",
              "      <th>5_o_Clock_Shadow</th>\n",
              "      <th>Arched_Eyebrows</th>\n",
              "      <th>Attractive</th>\n",
              "      <th>Bags_Under_Eyes</th>\n",
              "      <th>Bald</th>\n",
              "      <th>Bangs</th>\n",
              "      <th>Big_Lips</th>\n",
              "      <th>Big_Nose</th>\n",
              "      <th>Black_Hair</th>\n",
              "      <th>Blond_Hair</th>\n",
              "      <th>Blurry</th>\n",
              "      <th>Brown_Hair</th>\n",
              "      <th>Bushy_Eyebrows</th>\n",
              "      <th>Chubby</th>\n",
              "      <th>Double_Chin</th>\n",
              "      <th>Eyeglasses</th>\n",
              "      <th>Goatee</th>\n",
              "      <th>Gray_Hair</th>\n",
              "      <th>Heavy_Makeup</th>\n",
              "      <th>High_Cheekbones</th>\n",
              "      <th>Male</th>\n",
              "      <th>Mouth_Slightly_Open</th>\n",
              "      <th>Mustache</th>\n",
              "      <th>Narrow_Eyes</th>\n",
              "      <th>No_Beard</th>\n",
              "      <th>Oval_Face</th>\n",
              "      <th>Pale_Skin</th>\n",
              "      <th>Pointy_Nose</th>\n",
              "      <th>Receding_Hairline</th>\n",
              "      <th>Rosy_Cheeks</th>\n",
              "      <th>Sideburns</th>\n",
              "      <th>Smiling</th>\n",
              "      <th>Straight_Hair</th>\n",
              "      <th>Wavy_Hair</th>\n",
              "      <th>Wearing_Earrings</th>\n",
              "      <th>Wearing_Hat</th>\n",
              "      <th>Wearing_Lipstick</th>\n",
              "      <th>Wearing_Necklace</th>\n",
              "      <th>Wearing_Necktie</th>\n",
              "      <th>Young</th>\n",
              "      <th>status</th>\n",
              "      <th>predicted_value</th>\n",
              "    </tr>\n",
              "  </thead>\n",
              "  <tbody>\n",
              "    <tr>\n",
              "      <th>17858</th>\n",
              "      <td>190946.jpg</td>\n",
              "      <td>False</td>\n",
              "      <td>True</td>\n",
              "      <td>True</td>\n",
              "      <td>False</td>\n",
              "      <td>False</td>\n",
              "      <td>False</td>\n",
              "      <td>False</td>\n",
              "      <td>False</td>\n",
              "      <td>False</td>\n",
              "      <td>True</td>\n",
              "      <td>False</td>\n",
              "      <td>False</td>\n",
              "      <td>False</td>\n",
              "      <td>False</td>\n",
              "      <td>False</td>\n",
              "      <td>False</td>\n",
              "      <td>False</td>\n",
              "      <td>False</td>\n",
              "      <td>True</td>\n",
              "      <td>True</td>\n",
              "      <td>False</td>\n",
              "      <td>False</td>\n",
              "      <td>False</td>\n",
              "      <td>False</td>\n",
              "      <td>True</td>\n",
              "      <td>True</td>\n",
              "      <td>False</td>\n",
              "      <td>False</td>\n",
              "      <td>False</td>\n",
              "      <td>True</td>\n",
              "      <td>False</td>\n",
              "      <td>True</td>\n",
              "      <td>False</td>\n",
              "      <td>True</td>\n",
              "      <td>False</td>\n",
              "      <td>False</td>\n",
              "      <td>True</td>\n",
              "      <td>False</td>\n",
              "      <td>False</td>\n",
              "      <td>True</td>\n",
              "      <td>True Positive</td>\n",
              "      <td>1.000000</td>\n",
              "    </tr>\n",
              "    <tr>\n",
              "      <th>15910</th>\n",
              "      <td>192599.jpg</td>\n",
              "      <td>False</td>\n",
              "      <td>True</td>\n",
              "      <td>True</td>\n",
              "      <td>False</td>\n",
              "      <td>False</td>\n",
              "      <td>False</td>\n",
              "      <td>False</td>\n",
              "      <td>False</td>\n",
              "      <td>False</td>\n",
              "      <td>True</td>\n",
              "      <td>False</td>\n",
              "      <td>False</td>\n",
              "      <td>False</td>\n",
              "      <td>False</td>\n",
              "      <td>False</td>\n",
              "      <td>False</td>\n",
              "      <td>False</td>\n",
              "      <td>False</td>\n",
              "      <td>True</td>\n",
              "      <td>True</td>\n",
              "      <td>False</td>\n",
              "      <td>False</td>\n",
              "      <td>False</td>\n",
              "      <td>True</td>\n",
              "      <td>True</td>\n",
              "      <td>True</td>\n",
              "      <td>False</td>\n",
              "      <td>False</td>\n",
              "      <td>False</td>\n",
              "      <td>True</td>\n",
              "      <td>False</td>\n",
              "      <td>True</td>\n",
              "      <td>False</td>\n",
              "      <td>False</td>\n",
              "      <td>True</td>\n",
              "      <td>False</td>\n",
              "      <td>True</td>\n",
              "      <td>False</td>\n",
              "      <td>False</td>\n",
              "      <td>True</td>\n",
              "      <td>True Positive</td>\n",
              "      <td>1.000000</td>\n",
              "    </tr>\n",
              "    <tr>\n",
              "      <th>2612</th>\n",
              "      <td>187635.jpg</td>\n",
              "      <td>False</td>\n",
              "      <td>False</td>\n",
              "      <td>True</td>\n",
              "      <td>False</td>\n",
              "      <td>False</td>\n",
              "      <td>False</td>\n",
              "      <td>False</td>\n",
              "      <td>False</td>\n",
              "      <td>False</td>\n",
              "      <td>False</td>\n",
              "      <td>False</td>\n",
              "      <td>True</td>\n",
              "      <td>False</td>\n",
              "      <td>False</td>\n",
              "      <td>False</td>\n",
              "      <td>False</td>\n",
              "      <td>False</td>\n",
              "      <td>False</td>\n",
              "      <td>True</td>\n",
              "      <td>True</td>\n",
              "      <td>False</td>\n",
              "      <td>True</td>\n",
              "      <td>False</td>\n",
              "      <td>False</td>\n",
              "      <td>True</td>\n",
              "      <td>True</td>\n",
              "      <td>True</td>\n",
              "      <td>False</td>\n",
              "      <td>False</td>\n",
              "      <td>False</td>\n",
              "      <td>False</td>\n",
              "      <td>True</td>\n",
              "      <td>False</td>\n",
              "      <td>True</td>\n",
              "      <td>False</td>\n",
              "      <td>False</td>\n",
              "      <td>True</td>\n",
              "      <td>False</td>\n",
              "      <td>False</td>\n",
              "      <td>True</td>\n",
              "      <td>True Positive</td>\n",
              "      <td>0.999999</td>\n",
              "    </tr>\n",
              "    <tr>\n",
              "      <th>18267</th>\n",
              "      <td>195818.jpg</td>\n",
              "      <td>False</td>\n",
              "      <td>False</td>\n",
              "      <td>True</td>\n",
              "      <td>False</td>\n",
              "      <td>False</td>\n",
              "      <td>False</td>\n",
              "      <td>False</td>\n",
              "      <td>False</td>\n",
              "      <td>False</td>\n",
              "      <td>False</td>\n",
              "      <td>False</td>\n",
              "      <td>True</td>\n",
              "      <td>False</td>\n",
              "      <td>False</td>\n",
              "      <td>False</td>\n",
              "      <td>False</td>\n",
              "      <td>False</td>\n",
              "      <td>False</td>\n",
              "      <td>True</td>\n",
              "      <td>True</td>\n",
              "      <td>False</td>\n",
              "      <td>False</td>\n",
              "      <td>False</td>\n",
              "      <td>False</td>\n",
              "      <td>True</td>\n",
              "      <td>True</td>\n",
              "      <td>False</td>\n",
              "      <td>True</td>\n",
              "      <td>False</td>\n",
              "      <td>False</td>\n",
              "      <td>False</td>\n",
              "      <td>True</td>\n",
              "      <td>False</td>\n",
              "      <td>False</td>\n",
              "      <td>False</td>\n",
              "      <td>False</td>\n",
              "      <td>True</td>\n",
              "      <td>False</td>\n",
              "      <td>False</td>\n",
              "      <td>True</td>\n",
              "      <td>True Positive</td>\n",
              "      <td>0.999999</td>\n",
              "    </tr>\n",
              "    <tr>\n",
              "      <th>2934</th>\n",
              "      <td>198191.jpg</td>\n",
              "      <td>False</td>\n",
              "      <td>False</td>\n",
              "      <td>True</td>\n",
              "      <td>False</td>\n",
              "      <td>False</td>\n",
              "      <td>False</td>\n",
              "      <td>False</td>\n",
              "      <td>False</td>\n",
              "      <td>False</td>\n",
              "      <td>False</td>\n",
              "      <td>False</td>\n",
              "      <td>False</td>\n",
              "      <td>False</td>\n",
              "      <td>False</td>\n",
              "      <td>False</td>\n",
              "      <td>False</td>\n",
              "      <td>False</td>\n",
              "      <td>False</td>\n",
              "      <td>True</td>\n",
              "      <td>True</td>\n",
              "      <td>False</td>\n",
              "      <td>True</td>\n",
              "      <td>False</td>\n",
              "      <td>False</td>\n",
              "      <td>True</td>\n",
              "      <td>True</td>\n",
              "      <td>False</td>\n",
              "      <td>True</td>\n",
              "      <td>False</td>\n",
              "      <td>False</td>\n",
              "      <td>False</td>\n",
              "      <td>True</td>\n",
              "      <td>True</td>\n",
              "      <td>False</td>\n",
              "      <td>False</td>\n",
              "      <td>False</td>\n",
              "      <td>True</td>\n",
              "      <td>False</td>\n",
              "      <td>False</td>\n",
              "      <td>True</td>\n",
              "      <td>True Positive</td>\n",
              "      <td>0.999999</td>\n",
              "    </tr>\n",
              "  </tbody>\n",
              "</table>\n",
              "</div>"
            ],
            "text/plain": [
              "       image_link  5_o_Clock_Shadow  ...         status  predicted_value\n",
              "17858  190946.jpg             False  ...  True Positive         1.000000\n",
              "15910  192599.jpg             False  ...  True Positive         1.000000\n",
              "2612   187635.jpg             False  ...  True Positive         0.999999\n",
              "18267  195818.jpg             False  ...  True Positive         0.999999\n",
              "2934   198191.jpg             False  ...  True Positive         0.999999\n",
              "\n",
              "[5 rows x 43 columns]"
            ]
          },
          "metadata": {
            "tags": []
          },
          "execution_count": 23
        }
      ]
    },
    {
      "cell_type": "code",
      "metadata": {
        "id": "YR1x63JXc5cj",
        "colab": {
          "base_uri": "https://localhost:8080/",
          "height": 235
        },
        "outputId": "c2d8e128-4eba-4250-e96e-0e46ce796f6c"
      },
      "source": [
        "#Most attractive picture\r\n",
        "path0 = r'lesimages/img_align_celeba/'+'190946.jpg'\r\n",
        "img0 = cv2.imread(path0) \r\n",
        "cv2_imshow(img0)"
      ],
      "execution_count": null,
      "outputs": [
        {
          "output_type": "display_data",
          "data": {
            "image/png": "[encoded data removed]",
            "text/plain": [
              "<PIL.Image.Image image mode=RGB size=178x218 at 0x7F6F800CF0F0>"
            ]
          },
          "metadata": {
            "tags": []
          }
        }
      ]
    },
    {
      "cell_type": "markdown",
      "metadata": {
        "id": "dDNmBf4netif"
      },
      "source": [
        "## Attributes amongst populations"
      ]
    },
    {
      "cell_type": "markdown",
      "metadata": {
        "id": "12ATtfZsMyqE"
      },
      "source": [
        "**1. Proportions of False Positives in the classified images**"
      ]
    },
    {
      "cell_type": "code",
      "metadata": {
        "id": "VOW2CJvI67OG",
        "colab": {
          "base_uri": "https://localhost:8080/",
          "height": 431
        },
        "outputId": "59c503ec-da78-4b94-fef7-f836876c6a24"
      },
      "source": [
        "### Proportion of False Positive regarding attributes: \r\n",
        "\r\n",
        "fig = plt.figure(figsize=(10,5)) \r\n",
        "\r\n",
        "interesting_features = [\"Bald\",\"Young\",\"Heavy_Makeup\",\"Male\",\"Pale_Skin\",\"Smiling\"]\r\n",
        "\r\n",
        "# Plot accidents depending on type\r\n",
        "i=1\r\n",
        "\r\n",
        "for attr in trainset.attr2idx.keys():\r\n",
        "  if attr!=\"Attractive\" and len(test_df_without_data[(test_df_without_data[\"status\"].isin([\"True Positive\",\"False Positive\"])) & (test_df_without_data[attr]==True)]):\r\n",
        "    plt.bar(i,len(test_df_without_data[(test_df_without_data[\"status\"]==\"False Positive\") & (test_df_without_data[attr]==True)])/len(test_df_without_data[(test_df_without_data[\"status\"].isin([\"True Positive\",\"False Positive\"])) & (test_df_without_data[attr]==True)])*100)\r\n",
        "    i+=1\r\n",
        "\r\n",
        "plt.xticks([r for r in range(1,len(trainset.attr2idx.keys()))], [attr for attr in trainset.attr2idx.keys() if attr!=\"Attractive\" and len(test_df_without_data[(test_df_without_data[\"status\"].isin([\"True Positive\",\"False Positive\"])) & (test_df_without_data[attr]==True)])],rotation=90)\r\n",
        "\r\n",
        "plt.title(\"Percentage of False Positive regarding attributes\")\r\n",
        "plt.show()"
      ],
      "execution_count": null,
      "outputs": [
        {
          "output_type": "display_data",
          "data": {
            "image/png": "[encoded data removed]",
            "text/plain": [
              "<Figure size 720x360 with 1 Axes>"
            ]
          },
          "metadata": {
            "tags": [],
            "needs_background": "light"
          }
        }
      ]
    },
    {
      "cell_type": "markdown",
      "metadata": {
        "id": "X3KvU1nzM9FF"
      },
      "source": [
        "**2. Proportions of attributes in the train and predicted attractive populations**"
      ]
    },
    {
      "cell_type": "code",
      "metadata": {
        "colab": {
          "base_uri": "https://localhost:8080/",
          "height": 337
        },
        "id": "NOYAmURnYANw",
        "outputId": "48efb507-d679-4b1f-973f-8d307ee690f6"
      },
      "source": [
        "train_df = pd.DataFrame(trainset_allattr)\r\n",
        "train_df.columns = [\"image_link\",\"attrs\"]\r\n",
        "train_df[[key for key in trainset.attr2idx.keys()]] = train_df['attrs'].apply(pd.Series)\r\n",
        "train_df.pop(\"attrs\")\r\n",
        "\r\n",
        "fig = plt.figure(figsize=(10,5)) \r\n",
        "\r\n",
        "interesting_features = [\"Bald\",\"Young\",\"Heavy_Makeup\",\"Male\",\"Pale_Skin\",\"Smiling\"]\r\n",
        "i=1\r\n",
        "barWidth = 0.25\r\n",
        "\r\n",
        "for attr in interesting_features:\r\n",
        "  if attr!=\"Attractive\":\r\n",
        "    plt.bar(i,len(train_df[(train_df[\"Attractive\"]==True) & (train_df[attr]==True)])/len(train_df[train_df[\"Attractive\"]==True])*100,color='#B22222',width=barWidth,label=\"Train Attractive Population\" if i==1 else \"\")\r\n",
        "    plt.bar(i+barWidth,len(attractive_predicted_df[attractive_predicted_df[attr]==True])/len(attractive_predicted_df)*100,color='#F08080',width=barWidth,label=\"Test Predicted Attractive Population\" if i==1 else \"\")\r\n",
        "    plt.bar(i+barWidth*2,len(train_df[train_df[attr]==True])/len(train_df)*100,color='#8B0000',width=barWidth,label=\"Train Population\" if i==1 else \"\")\r\n",
        "    i+=1\r\n",
        "\r\n",
        "plt.xticks([r + barWidth for r in range(1,len(interesting_features)+1)], [attr for attr in interesting_features])\r\n",
        "\r\n",
        "plt.title(\"Proportion of selected attributes inside different population\")\r\n",
        "plt.legend(prop={'size': 12})\r\n",
        "plt.show()"
      ],
      "execution_count": null,
      "outputs": [
        {
          "output_type": "display_data",
          "data": {
            "image/png": "[encoded data removed]",
            "text/plain": [
              "<Figure size 720x360 with 1 Axes>"
            ]
          },
          "metadata": {
            "tags": [],
            "needs_background": "light"
          }
        }
      ]
    },
    {
      "cell_type": "markdown",
      "metadata": {
        "id": "xaXtIkHNNK9b"
      },
      "source": [
        "**3. Best and Worst attributes to have to be classified attractive**"
      ]
    },
    {
      "cell_type": "code",
      "metadata": {
        "id": "N-JDV0RIYm-t",
        "colab": {
          "base_uri": "https://localhost:8080/"
        },
        "outputId": "46cf9cdc-bd5f-47e1-9047-7683780b5528"
      },
      "source": [
        "test_df = test_df_without_data\r\n",
        "\r\n",
        "test_best_attr = {attr:len(test_df[(test_df[\"Attractive\"]==True) & (test_df[attr]==True)])/len(test_df[test_df[\"Attractive\"]==True])*100 if attr!=\"Attractive\" else 0 for attr in testset.attr2idx.keys()}\r\n",
        "predict_best_attr = {attr:len(test_df[(test_df[\"status\"].isin(['False Positive',\"True Positive\"])) & (test_df[attr]==True)])/len(test_df[test_df[\"status\"].isin(['False Positive',\"True Positive\"])])*100 if attr!=\"Attractive\" else 0 for attr in testset.attr2idx.keys()}\r\n",
        "top_5_best_attr_test = sorted(test_best_attr.items(),key=lambda x: x[1],reverse=True)[:5]\r\n",
        "top_5_best_attr_predict = sorted(predict_best_attr.items(),key=lambda x: x[1],reverse=True)[:5]\r\n",
        "top_5_worst_attr_test = sorted(test_best_attr.items(),key=lambda x: x[1])[1:6]\r\n",
        "top_5_worst_attr_predict = sorted(predict_best_attr.items(),key=lambda x: x[1])[1:6]\r\n",
        "\r\n",
        "print(\"---------- Statistics in Test Dataset vs Network output ----------\")\r\n",
        "print(\"\\n\")\r\n",
        "print(\"Top Attributes to have\")\r\n",
        "print(\"--------------\")\r\n",
        "print(\"\\n\".join(map(lambda x,y: x[0]+' '+y[0]+\" = \"+str(round(x[1],2))+\"% vs \"+str(round(y[1],2))+\"%\",top_5_best_attr_test,top_5_best_attr_predict)))\r\n",
        "print(\"\\n\")\r\n",
        "print(\"Worst Attributes to have\")\r\n",
        "print(\"--------------\")\r\n",
        "print(\"\\n\".join(map(lambda x,y: x[0]+' '+y[0]+\" = \"+str(round(x[1],2))+\"% vs \"+str(round(y[1],2))+\"%\",top_5_worst_attr_test,top_5_worst_attr_predict)))"
      ],
      "execution_count": null,
      "outputs": [
        {
          "output_type": "stream",
          "text": [
            "---------- Statistics in Test Dataset vs Network output ----------\n",
            "\n",
            "\n",
            "Top Attributes to have\n",
            "--------------\n",
            "Young No_Beard = 92.1% vs 93.14%\n",
            "No_Beard Young = 92.06% vs 91.77%\n",
            "Wearing_Lipstick Wearing_Lipstick = 76.1% vs 78.06%\n",
            "Heavy_Makeup Heavy_Makeup = 63.6% vs 64.88%\n",
            "Smiling Smiling = 56.49% vs 56.75%\n",
            "\n",
            "\n",
            "Worst Attributes to have\n",
            "--------------\n",
            "Bald Bald = 0.15% vs 0.03%\n",
            "Gray_Hair Gray_Hair = 0.18% vs 0.14%\n",
            "Double_Chin Double_Chin = 0.26% vs 0.42%\n",
            "Chubby Chubby = 0.31% vs 0.53%\n",
            "Eyeglasses Eyeglasses = 1.04% vs 0.6%\n"
          ],
          "name": "stdout"
        }
      ]
    },
    {
      "cell_type": "markdown",
      "metadata": {
        "id": "LLhbcmABb6JF"
      },
      "source": [
        "# Fairness evaluation : fairness metrics calculation"
      ]
    },
    {
      "cell_type": "markdown",
      "metadata": {
        "id": "gbTe4d-tcCHU"
      },
      "source": [
        "### Attribute \"Eyeglasses\""
      ]
    },
    {
      "cell_type": "code",
      "metadata": {
        "id": "08raA9F_b9bK",
        "colab": {
          "base_uri": "https://localhost:8080/"
        },
        "outputId": "fcf7c95d-423a-4d11-a048-b41e6c75d7bc"
      },
      "source": [
        "print(\"----------STATISCTICS WITHOUT DATA - EYEGLASSES ATTRIBUTE ----------\")\r\n",
        "print(\"\\n\")\r\n",
        "print(\"Statistical Parity\")\r\n",
        "#P(M(X)=1 | A=a) = P(M(X)=1 | B=b)\r\n",
        "print(len(test_df[(test_df[\"status\"].isin([\"False Positive\",\"True Positive\"])) & (test_df[\"Eyeglasses\"]==True)])/len(test_df[test_df[\"Eyeglasses\"]==True]))\r\n",
        "print(len(test_df[(test_df[\"status\"].isin([\"False Positive\",\"True Positive\"])) & (test_df[\"Eyeglasses\"]==False)])/len(test_df[test_df[\"Eyeglasses\"]==False]))\r\n",
        "print(\"\\n\")\r\n",
        "print(\"True Positive Rate\")\r\n",
        "#P(M(X)=1 | A=a, y=1) = P(M(X)=1 | A=b, y=1)\r\n",
        "print(\"--------------\")\r\n",
        "print(len(test_df[(test_df[\"status\"]==\"True Positive\") & (test_df[\"Eyeglasses\"]==True)])/len(test_df[(test_df[\"status\"].isin([\"False Negative\",\"True Positive\"])) & (test_df[\"Eyeglasses\"]==True)]))\r\n",
        "print(len(test_df[(test_df[\"status\"]==\"True Positive\") & (test_df[\"Eyeglasses\"]==False)])/len(test_df[(test_df[\"status\"].isin([\"False Negative\",\"True Positive\"])) & (test_df[\"Eyeglasses\"]==False)]))\r\n",
        "print(\"\\n\")\r\n",
        "print(\"False Positive Rate\")\r\n",
        "#P(M(X)=1 | A=a, y=0) = P(M(X)=1 | A=b, y=0)\r\n",
        "print(\"----------------\")\r\n",
        "print(len(test_df[(test_df[\"status\"]==\"False Positive\") & (test_df[\"Eyeglasses\"]==True)])/len(test_df[(test_df[\"status\"].isin([\"True Negative\",\"False Positive\"])) & (test_df[\"Eyeglasses\"]==True)]))\r\n",
        "print(len(test_df[(test_df[\"status\"]==\"False Positive\") & (test_df[\"Eyeglasses\"]==False)])/len(test_df[(test_df[\"status\"].isin([\"True Negative\",\"False Positive\"])) & (test_df[\"Eyeglasses\"]==False)]))\r\n"
      ],
      "execution_count": null,
      "outputs": [
        {
          "output_type": "stream",
          "text": [
            "----------STATISCTICS WITHOUT DATA - EYEGLASSES ATTRIBUTE ----------\n",
            "\n",
            "\n",
            "Statistical Parity\n",
            "0.04809930178432894\n",
            "0.5462432389010872\n",
            "\n",
            "\n",
            "True Positive Rate\n",
            "--------------\n",
            "0.2524271844660194\n",
            "0.8241960183767228\n",
            "\n",
            "\n",
            "False Positive Rate\n",
            "----------------\n",
            "0.03035413153456998\n",
            "0.2395809867087182\n"
          ],
          "name": "stdout"
        }
      ]
    },
    {
      "cell_type": "markdown",
      "metadata": {
        "id": "M3bXJEpYcF0N"
      },
      "source": [
        "### Attribute \"Bald\""
      ]
    },
    {
      "cell_type": "code",
      "metadata": {
        "id": "TaKLbzczcJpD",
        "colab": {
          "base_uri": "https://localhost:8080/"
        },
        "outputId": "33a81818-0beb-4a69-9a57-b3d399f6483b"
      },
      "source": [
        "test_df = test_df_without_data\r\n",
        "\r\n",
        "print(\"----------STATISCTICS WITHOUT DATA - BALD ATTRIBUTE ----------\")\r\n",
        "print(\"\\n\")\r\n",
        "print(\"Statistical Parity\")\r\n",
        "#P(M(X)=1 | A=a) = P(M(X)=1 | B=b)\r\n",
        "print(len(test_df[(test_df[\"status\"].isin([\"False Positive\",\"True Positive\"])) & (test_df[\"Bald\"]==True)])/len(test_df[test_df[\"Bald\"]==True]))\r\n",
        "print(len(test_df[(test_df[\"status\"].isin([\"False Positive\",\"True Positive\"])) & (test_df[\"Bald\"]==False)])/len(test_df[test_df[\"Bald\"]==False]))\r\n",
        "print(\"\\n\")\r\n",
        "print(\"True Positive Rate\")\r\n",
        "#P(M(X)=1 | A=a, y=1) = P(M(X)=1 | A=b, y=1)\r\n",
        "print(\"--------------\")\r\n",
        "print(len(test_df[(test_df[\"status\"]==\"True Positive\") & (test_df[\"Bald\"]==True)])/len(test_df[(test_df[\"status\"].isin([\"False Negative\",\"True Positive\"])) & (test_df[\"Bald\"]==True)]))\r\n",
        "print(len(test_df[(test_df[\"status\"]==\"True Positive\") & (test_df[\"Bald\"]==False)])/len(test_df[(test_df[\"status\"].isin([\"False Negative\",\"True Positive\"])) & (test_df[\"Bald\"]==False)]))\r\n",
        "print(\"\\n\")\r\n",
        "print(\"False Positive Rate\")\r\n",
        "#P(M(X)=1 | A=a, y=0) = P(M(X)=1 | A=b, y=0)\r\n",
        "print(\"----------------\")\r\n",
        "print(len(test_df[(test_df[\"status\"]==\"False Positive\") & (test_df[\"Bald\"]==True)])/len(test_df[(test_df[\"status\"].isin([\"True Negative\",\"False Positive\"])) & (test_df[\"Bald\"]==True)]))\r\n",
        "print(len(test_df[(test_df[\"status\"]==\"False Positive\") & (test_df[\"Bald\"]==False)])/len(test_df[(test_df[\"status\"].isin([\"True Negative\",\"False Positive\"])) & (test_df[\"Bald\"]==False)]))\r\n"
      ],
      "execution_count": null,
      "outputs": [
        {
          "output_type": "stream",
          "text": [
            "----------STATISCTICS WITHOUT DATA - BALD ATTRIBUTE ----------\n",
            "\n",
            "\n",
            "Statistical Parity\n",
            "0.0070921985815602835\n",
            "0.5250524591841957\n",
            "\n",
            "\n",
            "True Positive Rate\n",
            "--------------\n",
            "0.13333333333333333\n",
            "0.819285642011535\n",
            "\n",
            "\n",
            "False Positive Rate\n",
            "----------------\n",
            "0.0024509803921568627\n",
            "0.22390223695111847\n"
          ],
          "name": "stdout"
        }
      ]
    },
    {
      "cell_type": "markdown",
      "metadata": {
        "id": "aSFCG-qfe79X"
      },
      "source": [
        "# First fix : Adjusting the thresholds"
      ]
    },
    {
      "cell_type": "markdown",
      "metadata": {
        "id": "AG7LMMgmfcHQ"
      },
      "source": [
        "## Calculating the FPR and TPR for different thresholds"
      ]
    },
    {
      "cell_type": "code",
      "metadata": {
        "id": "xzn0njEFfjBS"
      },
      "source": [
        " def get_rates(treshold, attr):\r\n",
        "  #create the dataframe\r\n",
        "  test_df = pd.DataFrame(testset_allattr)\r\n",
        "  test_df.columns = [\"image_link\",\"attrs\"]\r\n",
        "  test_df[[key for key in testset.attr2idx.keys()]] = test_df['attrs'].apply(pd.Series)\r\n",
        "  test_df.pop(\"attrs\")\r\n",
        "  test_df[\"status\"]=[\"Not_known_yet\" for i in range(len(test_df.index))]\r\n",
        "  test_df.head()\r\n",
        "\r\n",
        "  #do the test\r\n",
        "  correct = 0\r\n",
        "  total = 0\r\n",
        "  idx = 0 \r\n",
        "  not_predicted_as_attractive_idx = []\r\n",
        "\r\n",
        "  net.eval()\r\n",
        "  for data in testloader:\r\n",
        "      images, labels = data\r\n",
        "      labels = labels.cuda()\r\n",
        "      outputs = net(images.cuda())\r\n",
        "      predicted = torch.round(outputs.data - treshold + 0.5)\r\n",
        "      predicted = predicted.cuda()\r\n",
        "      total += labels.size(0)\r\n",
        "      correct += (predicted == labels).sum()\r\n",
        "\r\n",
        "      for predict,real in zip(predicted,labels):\r\n",
        "\r\n",
        "        if predict==real:\r\n",
        "          if real==1:\r\n",
        "            test_df.at[idx,\"status\"] = \"True Positive\"\r\n",
        "          else:\r\n",
        "            test_df.at[idx,\"status\"] = \"True Negative\"\r\n",
        "        else:\r\n",
        "          if real==1:\r\n",
        "            test_df.at[idx,\"status\"] = \"False Negative\"\r\n",
        "          else:\r\n",
        "            test_df.at[idx,\"status\"] = \"False Positive\"        \r\n",
        "\r\n",
        "        if predict==0:\r\n",
        "          not_predicted_as_attractive_idx.append(idx)\r\n",
        "        idx+=1\r\n",
        "\r\n",
        "  print(\"treshold : \" + str(treshold)+'\\n')\r\n",
        "  print(total)\r\n",
        "  print(correct)\r\n",
        "  #ici nous on a pas testset.data\r\n",
        "  print('Accuracy of the network on the {} test images: {:4.2f} %'.format(\r\n",
        "      len(testset), 100 * correct.true_divide(total)))\r\n",
        "\r\n",
        "  #false positive rate with attribute\r\n",
        "  fp_w = len(test_df[(test_df[\"status\"]==\"False Positive\") & (test_df[attr]==True)])/len(test_df[(test_df[\"status\"].isin([\"True Negative\",\"False Positive\"])) & (test_df[attr]==True)])\r\n",
        "  #true positive rate with attribute\r\n",
        "  tp_w = len(test_df[(test_df[\"status\"]==\"True Positive\") & (test_df[attr]==True)])/len(test_df[(test_df[\"status\"].isin([\"False Negative\",\"True Positive\"])) & (test_df[attr]==True)])\r\n",
        "  #false positive rate without attribute\r\n",
        "  fp_wo = len(test_df[(test_df[\"status\"]==\"False Positive\") & (test_df[attr]==False)])/len(test_df[(test_df[\"status\"].isin([\"True Negative\",\"False Positive\"])) & (test_df[attr]==False)])\r\n",
        "  #true positive rate without attribute\r\n",
        "  tp_wo = len(test_df[(test_df[\"status\"]==\"True Positive\") & (test_df[attr]==False)])/len(test_df[(test_df[\"status\"].isin([\"False Negative\",\"True Positive\"])) & (test_df[attr]==False)])\r\n",
        "\r\n",
        "  return tp_w, fp_w, tp_wo, fp_wo"
      ],
      "execution_count": null,
      "outputs": []
    },
    {
      "cell_type": "markdown",
      "metadata": {
        "id": "3mpo-N9yfu4Q"
      },
      "source": [
        "## Plotting the ROC curves"
      ]
    },
    {
      "cell_type": "code",
      "metadata": {
        "id": "RfAwoKJNfwvD",
        "colab": {
          "base_uri": "https://localhost:8080/",
          "height": 1000
        },
        "outputId": "353ba565-8b9b-4868-b465-8a0befa0f09f"
      },
      "source": [
        "category = 'Eyeglasses'\r\n",
        "i = 0\r\n",
        "x_w = []\r\n",
        "y_w = []\r\n",
        "x_wo = []\r\n",
        "y_wo = []\r\n",
        "interval = np.arange(0,1,0.05)\r\n",
        "for t in interval:\r\n",
        "  result = get_rates(t, category)\r\n",
        "  y_w.append(result[0])\r\n",
        "  x_w.append(result[1])\r\n",
        "  y_wo.append(result[2])\r\n",
        "  x_wo.append(result[3])\r\n",
        "\r\n",
        "plt.plot(x_w,y_w, label = category, color = 'pink' )\r\n",
        "plt.plot(x_wo,y_wo, label = 'without_'+category, color = 'blue')\r\n",
        "plt.legend(title='ROC curves for the Eyeglasses attribute')\r\n",
        "plt.show()"
      ],
      "execution_count": null,
      "outputs": [
        {
          "output_type": "stream",
          "text": [
            "treshold : 0.0\n",
            "\n",
            "19962\n",
            "tensor(9905, device='cuda:0')\n",
            "Accuracy of the network on the 19962 test images: 49.62 %\n",
            "treshold : 0.05\n",
            "\n",
            "19962\n",
            "tensor(13298, device='cuda:0')\n",
            "Accuracy of the network on the 19962 test images: 66.62 %\n",
            "treshold : 0.1\n",
            "\n",
            "19962\n",
            "tensor(13924, device='cuda:0')\n",
            "Accuracy of the network on the 19962 test images: 69.75 %\n",
            "treshold : 0.15000000000000002\n",
            "\n",
            "19962\n",
            "tensor(14386, device='cuda:0')\n",
            "Accuracy of the network on the 19962 test images: 72.07 %\n",
            "treshold : 0.2\n",
            "\n",
            "19962\n",
            "tensor(14740, device='cuda:0')\n",
            "Accuracy of the network on the 19962 test images: 73.84 %\n",
            "treshold : 0.25\n",
            "\n",
            "19962\n",
            "tensor(15104, device='cuda:0')\n",
            "Accuracy of the network on the 19962 test images: 75.66 %\n",
            "treshold : 0.30000000000000004\n",
            "\n",
            "19962\n",
            "tensor(15350, device='cuda:0')\n",
            "Accuracy of the network on the 19962 test images: 76.90 %\n",
            "treshold : 0.35000000000000003\n",
            "\n",
            "19962\n",
            "tensor(15621, device='cuda:0')\n",
            "Accuracy of the network on the 19962 test images: 78.25 %\n",
            "treshold : 0.4\n",
            "\n",
            "19962\n",
            "tensor(15811, device='cuda:0')\n",
            "Accuracy of the network on the 19962 test images: 79.21 %\n",
            "treshold : 0.45\n",
            "\n",
            "19962\n",
            "tensor(15932, device='cuda:0')\n",
            "Accuracy of the network on the 19962 test images: 79.81 %\n",
            "treshold : 0.5\n",
            "\n",
            "19962\n",
            "tensor(16000, device='cuda:0')\n",
            "Accuracy of the network on the 19962 test images: 80.15 %\n",
            "treshold : 0.55\n",
            "\n",
            "19962\n",
            "tensor(15955, device='cuda:0')\n",
            "Accuracy of the network on the 19962 test images: 79.93 %\n",
            "treshold : 0.6000000000000001\n",
            "\n",
            "19962\n",
            "tensor(15837, device='cuda:0')\n",
            "Accuracy of the network on the 19962 test images: 79.34 %\n",
            "treshold : 0.65\n",
            "\n",
            "19962\n",
            "tensor(15621, device='cuda:0')\n",
            "Accuracy of the network on the 19962 test images: 78.25 %\n",
            "treshold : 0.7000000000000001\n",
            "\n",
            "19962\n",
            "tensor(15360, device='cuda:0')\n",
            "Accuracy of the network on the 19962 test images: 76.95 %\n",
            "treshold : 0.75\n",
            "\n",
            "19962\n",
            "tensor(15048, device='cuda:0')\n",
            "Accuracy of the network on the 19962 test images: 75.38 %\n",
            "treshold : 0.8\n",
            "\n",
            "19962\n",
            "tensor(14715, device='cuda:0')\n",
            "Accuracy of the network on the 19962 test images: 73.72 %\n",
            "treshold : 0.8500000000000001\n",
            "\n",
            "19962\n",
            "tensor(14236, device='cuda:0')\n",
            "Accuracy of the network on the 19962 test images: 71.32 %\n",
            "treshold : 0.9\n",
            "\n",
            "19962\n",
            "tensor(13663, device='cuda:0')\n",
            "Accuracy of the network on the 19962 test images: 68.45 %\n",
            "treshold : 0.9500000000000001\n",
            "\n",
            "19962\n",
            "tensor(12835, device='cuda:0')\n",
            "Accuracy of the network on the 19962 test images: 64.30 %\n"
          ],
          "name": "stdout"
        },
        {
          "output_type": "display_data",
          "data": {
            "image/png": "[encoded data removed]",
            "text/plain": [
              "<Figure size 432x288 with 1 Axes>"
            ]
          },
          "metadata": {
            "tags": [],
            "needs_background": "light"
          }
        }
      ]
    },
    {
      "cell_type": "markdown",
      "metadata": {
        "id": "pggUhVPwgYOC"
      },
      "source": [
        "## Finding the tresholds"
      ]
    },
    {
      "cell_type": "code",
      "metadata": {
        "id": "VZQKZoQEgZ_F",
        "colab": {
          "base_uri": "https://localhost:8080/"
        },
        "outputId": "c2ccab48-07c6-4331-cb86-4c8bb6a1b8d3"
      },
      "source": [
        "#Printing the rates\r\n",
        "print('TPR for eyeglasses')\r\n",
        "print(x_w)\r\n",
        "print('FPR for eyeglasses')\r\n",
        "print(y_w)\r\n",
        "print('TPR without eyeglasses')\r\n",
        "print(x_wo)\r\n",
        "print('FPR without eyeglasses')\r\n",
        "print(y_wo)"
      ],
      "execution_count": null,
      "outputs": [
        {
          "output_type": "stream",
          "text": [
            "TPR for eyeglasses\n",
            "[0.9966273187183811, 0.33389544688026984, 0.24957841483979765, 0.19392917369308602, 0.16020236087689713, 0.11973018549747048, 0.09190556492411467, 0.0699831365935919, 0.05480607082630692, 0.04384485666104553, 0.03035413153456998, 0.024451939291736932, 0.016863406408094434, 0.01433389544688027, 0.012647554806070826, 0.00927487352445194, 0.00505902192242833, 0.003372681281618887, 0.002529510961214165, 0.0]\n",
            "FPR for eyeglasses\n",
            "[1.0, 0.912621359223301, 0.883495145631068, 0.8155339805825242, 0.7087378640776699, 0.6504854368932039, 0.5631067961165048, 0.5242718446601942, 0.4174757281553398, 0.32038834951456313, 0.2524271844660194, 0.1941747572815534, 0.1553398058252427, 0.14563106796116504, 0.13592233009708737, 0.1262135922330097, 0.11650485436893204, 0.06796116504854369, 0.019417475728155338, 0.0]\n",
            "TPR without eyeglasses\n",
            "[0.9996620860554178, 0.6979049335435908, 0.6296463167380041, 0.575580085604866, 0.5278215814372607, 0.47814823158369, 0.4375985582338365, 0.3898400540662311, 0.3439963955845911, 0.2982653750844785, 0.2395809867087182, 0.19103401667042127, 0.15307501689569722, 0.12198693399414283, 0.0975444920027033, 0.07591799954944807, 0.056206352782158145, 0.040774949312908315, 0.026695201621986932, 0.011826988060373958]\n",
            "FPR without eyeglasses\n",
            "[1.0, 0.9935681470137825, 0.9857069933639612, 0.9778458397141399, 0.9677386421643696, 0.9555895865237366, 0.9415007656967841, 0.9236345074017356, 0.9007656967840735, 0.8713629402756509, 0.8241960183767228, 0.7754977029096478, 0.728534966819806, 0.6781010719754977, 0.6291985706993364, 0.5774374680959673, 0.5251659009698826, 0.4625829504849413, 0.3917304747320061, 0.2936191934660541]\n"
          ],
          "name": "stdout"
        }
      ]
    },
    {
      "cell_type": "markdown",
      "metadata": {
        "id": "dvKHJLpzgqtX"
      },
      "source": [
        "We choose tresholds so that the rates are equal"
      ]
    },
    {
      "cell_type": "code",
      "metadata": {
        "id": "H-WwAcAWgjLr",
        "colab": {
          "base_uri": "https://localhost:8080/"
        },
        "outputId": "048798e6-4fd2-43d2-9d56-6e1f4c143c2a"
      },
      "source": [
        "#Choosing a treshold of 0.4 for people with eyeglasses\r\n",
        "print(get_rates(0.4, \"Eyeglasses\"))\r\n",
        "#with eye glasses :\r\n",
        "#true positive rate : 0.4563106796116505\r\n",
        "#false positive rate : 0.046374367622259695"
      ],
      "execution_count": null,
      "outputs": [
        {
          "output_type": "stream",
          "text": [
            "treshold : 0.4\n",
            "\n",
            "19962\n",
            "tensor(15945, device='cuda:0')\n",
            "Accuracy of the network on the 19962 test images: 79.88 %\n",
            "(0.4563106796116505, 0.046374367622259695, 0.8967840735068913, 0.32608695652173914)\n"
          ],
          "name": "stdout"
        }
      ]
    },
    {
      "cell_type": "code",
      "metadata": {
        "id": "QNPcbT4zgn0S",
        "colab": {
          "base_uri": "https://localhost:8080/"
        },
        "outputId": "c320df40-4090-4a9b-8d9a-2e975a50adf2"
      },
      "source": [
        "#Choosing a treshold of 0.85 for people without eyeglasses\r\n",
        "print(get_rates(0.85, \"Eyeglasses\"))\r\n",
        "#without eye glasses :\r\n",
        "#true positive rate : 0.46248085758039814\r\n",
        "#false positive rate : 0.04190132912818202"
      ],
      "execution_count": null,
      "outputs": [
        {
          "output_type": "stream",
          "text": [
            "treshold : 0.85\n",
            "\n",
            "19962\n",
            "tensor(14225, device='cuda:0')\n",
            "Accuracy of the network on the 19962 test images: 71.26 %\n",
            "(0.02912621359223301, 0.0, 0.46248085758039814, 0.04190132912818202)\n"
          ],
          "name": "stdout"
        }
      ]
    },
    {
      "cell_type": "markdown",
      "metadata": {
        "id": "0Tt_HAEUbxkb"
      },
      "source": [
        "# Second fix : Adding data"
      ]
    },
    {
      "cell_type": "markdown",
      "metadata": {
        "id": "4gA8hORtag5j"
      },
      "source": [
        "## With added data"
      ]
    },
    {
      "cell_type": "markdown",
      "metadata": {
        "id": "n5c85NSNap4E"
      },
      "source": [
        "Here the model that needs to be loaded is the one trained with the added data."
      ]
    },
    {
      "cell_type": "code",
      "metadata": {
        "id": "rEEmkEK4ajyZ"
      },
      "source": [
        "##### TEST DATAFRAME #####\r\n",
        "test_df_with_data = pd.DataFrame(testset_allattr)\r\n",
        "test_df_with_data.columns = [\"image_link\",\"attrs\"]\r\n",
        "test_df_with_data[[key for key in testset.attr2idx.keys()]] = test_df_with_data['attrs'].apply(pd.Series)\r\n",
        "test_df_with_data.pop(\"attrs\")\r\n",
        "test_df_with_data[\"status\"]=[\"Not_known_yet\" for i in range(len(test_df_with_data.index))]\r\n",
        "test_df_with_data[\"predicted_value\"]=[str(0) for i in range(len(test_df_with_data.index))]\r\n",
        "\r\n",
        "##### TRAIN DATAFRAME #####\r\n",
        "train_df_with_data = pd.DataFrame(trainset_allattr)\r\n",
        "train_df_with_data.columns = [\"image_link\",\"attrs\"]\r\n",
        "train_df_with_data[[key for key in trainset.attr2idx.keys()]] = train_df_with_data['attrs'].apply(pd.Series)\r\n",
        "del train_df_with_data[\"attrs\"]"
      ],
      "execution_count": null,
      "outputs": []
    },
    {
      "cell_type": "markdown",
      "metadata": {
        "id": "ZBn4wa3ca8ab"
      },
      "source": [
        "### Testing the model"
      ]
    },
    {
      "cell_type": "code",
      "metadata": {
        "id": "suIK1uyta6Tz",
        "colab": {
          "base_uri": "https://localhost:8080/"
        },
        "outputId": "e0031537-ad64-4782-e21f-4930f94840a4"
      },
      "source": [
        "correct = 0\r\n",
        "total = 0\r\n",
        "idx = 0 \r\n",
        "not_predicted_as_attractive_idx_with_data = []\r\n",
        "\r\n",
        "net.eval()\r\n",
        "for data in testloader:\r\n",
        "    images, labels = data\r\n",
        "    labels = labels.cuda()\r\n",
        "    outputs = net(images.cuda())\r\n",
        "    predicted_raw = outputs.data\r\n",
        "    predicted = torch.round(outputs.data)\r\n",
        "    predicted = predicted.cuda()\r\n",
        "    total += labels.size(0)\r\n",
        "    correct += (predicted == labels).sum()\r\n",
        "    for predict,predict_raw, real in zip(predicted,predicted_raw,labels):\r\n",
        "      test_df_with_data.at[idx,\"predicted_value\"] = str(predict_raw.item())\r\n",
        "      if predict==real:\r\n",
        "        if real==1:\r\n",
        "          test_df_with_data.at[idx,\"status\"] = \"True Positive\"\r\n",
        "        else:\r\n",
        "          test_df_with_data.at[idx,\"status\"] = \"True Negative\"\r\n",
        "      else:\r\n",
        "        if real==1:\r\n",
        "          test_df_with_data.at[idx,\"status\"] = \"False Negative\"\r\n",
        "        else:\r\n",
        "          test_df_with_data.at[idx,\"status\"] = \"False Positive\"        \r\n",
        "\r\n",
        "      if predict==0:\r\n",
        "        not_predicted_as_attractive_idx_with_data.append(idx)\r\n",
        "      idx+=1\r\n",
        "\r\n",
        "print(total)\r\n",
        "print(correct)\r\n",
        "\r\n",
        "print('Accuracy of the network on the {} test images: {:4.2f} %'.format(\r\n",
        "    len(testset), 100 * correct.true_divide(total)))"
      ],
      "execution_count": null,
      "outputs": [
        {
          "output_type": "stream",
          "text": [
            "19962\n",
            "tensor(16038, device='cuda:0')\n",
            "Accuracy of the network on the 19962 test images: 80.34 %\n"
          ],
          "name": "stdout"
        }
      ]
    },
    {
      "cell_type": "markdown",
      "metadata": {
        "id": "RoZRzlWCOPPq"
      },
      "source": [
        "**1. Proportions of False Positives in the classified images**"
      ]
    },
    {
      "cell_type": "code",
      "metadata": {
        "id": "D_4lPnSG7pDC",
        "colab": {
          "base_uri": "https://localhost:8080/",
          "height": 431
        },
        "outputId": "f238e05d-c71a-49bf-ce1c-c2ecf168135f"
      },
      "source": [
        "### Proportion of False Positive regarding attributes: \r\n",
        "\r\n",
        "fig = plt.figure(figsize=(10,5)) \r\n",
        "\r\n",
        "interesting_features = [\"Bald\",\"Young\",\"Heavy_Makeup\",\"Male\",\"Pale_Skin\",\"Smiling\"]\r\n",
        "\r\n",
        "# Plot accidents depending on type\r\n",
        "#for attr in trainset.attr2idx.keys():\r\n",
        "i=1\r\n",
        "\r\n",
        "for attr in trainset.attr2idx.keys():\r\n",
        "  if attr!=\"Attractive\":\r\n",
        "    #print(attr+\" TP+FP:\"+str(len(test_df_with_data[(test_df_with_data[\"status\"].isin([\"False Positive\"])) & (test_df_with_data[attr]==True)])))\r\n",
        "    plt.bar(i,len(test_df_with_data[(test_df_with_data[\"status\"]==\"False Positive\") & (test_df_with_data[attr]==True)])/len(test_df_with_data[(test_df_with_data[\"status\"].isin([\"True Positive\",\"False Positive\"])) & (test_df_with_data[attr]==True)])*100)\r\n",
        "    i+=1\r\n",
        "\r\n",
        "plt.xticks([r for r in range(1,len(trainset.attr2idx.keys()))], [attr for attr in trainset.attr2idx.keys() if attr!=\"Attractive\"],rotation=90)\r\n",
        "\r\n",
        "plt.title(\"Percentage of False Positive regarding attributes\")\r\n",
        "plt.show()"
      ],
      "execution_count": null,
      "outputs": [
        {
          "output_type": "display_data",
          "data": {
            "image/png": "[encoded data removed]",
            "text/plain": [
              "<Figure size 720x360 with 1 Axes>"
            ]
          },
          "metadata": {
            "tags": [],
            "needs_background": "light"
          }
        }
      ]
    },
    {
      "cell_type": "markdown",
      "metadata": {
        "id": "Ha9B17XXOD0K"
      },
      "source": [
        "**2. Proportions of attributes in the train and predicted attractive populatioins**"
      ]
    },
    {
      "cell_type": "code",
      "metadata": {
        "id": "NTa_35Gf81jA",
        "colab": {
          "base_uri": "https://localhost:8080/",
          "height": 337
        },
        "outputId": "348383c6-ad06-4759-d9cc-3c8a26477c11"
      },
      "source": [
        "# Set up a grid of plots\r\n",
        "fig = plt.figure(figsize=(10,5)) \r\n",
        "\r\n",
        "interesting_features = [\"Bald\",\"Young\",\"Heavy_Makeup\",\"Male\",\"Pale_Skin\",\"Smiling\"]\r\n",
        "\r\n",
        "# Plot accidents depending on type\r\n",
        "#for attr in trainset.attr2idx.keys():\r\n",
        "i=1\r\n",
        "barWidth = 0.25\r\n",
        "\r\n",
        "for attr in interesting_features:\r\n",
        "  if attr!=\"Attractive\":\r\n",
        "   #plt.bar([attr+\"A\",attr],[len(train_df_with_data[(train_df_with_data[\"Attractive\"]==True) & (train_df_with_data[attr]==True)])/len(train_df_with_data[train_df_with_data[\"Attractive\"]==True])*100,len(train_df_with_data[train_df_with_data[attr]==True])/len(train_df_with_data)*100])\r\n",
        "    plt.bar(i,len(test_df_with_data[(test_df_with_data[\"Attractive\"]==True) & (test_df_with_data[attr]==True)])/len(test_df_with_data[test_df_with_data[\"Attractive\"]==True])*100,color='#B22222',width=barWidth,label=\"Test Attractive Population\" if i==1 else \"\")\r\n",
        "    plt.bar(i+barWidth,len(test_df_with_data[(test_df_with_data[attr]==True) & (test_df_with_data[\"status\"].isin([\"True Positive\",\"False Negative\"]))])/len(test_df_with_data[test_df_with_data[\"status\"].isin([\"True Positive\",\"False Negative\"])])*100,color='#F08080',width=barWidth,label=\"Test Predicted Attractive Population\" if i==1 else \"\")\r\n",
        "    plt.bar(i+barWidth*2,len(test_df_with_data[test_df_with_data[attr]==True])/len(test_df_with_data)*100,color='#8B0000',width=barWidth,label=\"Test' Population\" if i==1 else \"\")\r\n",
        "    i+=1\r\n",
        "\r\n",
        "plt.xticks([r + barWidth for r in range(1,len(interesting_features)+1)], [attr for attr in interesting_features])\r\n",
        "\r\n",
        "plt.title(\"Proportion of selected attributes inside different population\")\r\n",
        "plt.legend(prop={'size': 12})\r\n",
        "plt.show()"
      ],
      "execution_count": null,
      "outputs": [
        {
          "output_type": "display_data",
          "data": {
            "image/png": "[encoded data removed]",
            "text/plain": [
              "<Figure size 720x360 with 1 Axes>"
            ]
          },
          "metadata": {
            "tags": [],
            "needs_background": "light"
          }
        }
      ]
    },
    {
      "cell_type": "markdown",
      "metadata": {
        "id": "Wt4M7D31bCKj"
      },
      "source": [
        "## Comparison between with and without added data"
      ]
    },
    {
      "cell_type": "markdown",
      "metadata": {
        "id": "LJ8ENvQVbHtw"
      },
      "source": [
        "### Proportion of attributes\r\n"
      ]
    },
    {
      "cell_type": "code",
      "metadata": {
        "id": "25bwPM_JbFnE",
        "colab": {
          "base_uri": "https://localhost:8080/",
          "height": 431
        },
        "outputId": "0194b6bd-0423-4152-b111-ccc9e9309688"
      },
      "source": [
        "# Set up a grid of plots\r\n",
        "fig = plt.figure(figsize=(10,5)) \r\n",
        "\r\n",
        "# Plot accidents depending on type\r\n",
        "x_attr = list(trainset.attr2idx.keys())\r\n",
        "x_attr.remove(\"Attractive\")\r\n",
        "\r\n",
        "i=1\r\n",
        "barWidth = 0.25\r\n",
        "\r\n",
        "for attr in x_attr:\r\n",
        "    y_percentage_without_data = len(train_df_without_data[train_df_without_data[attr]==True])/len(train_df_without_data)\r\n",
        "    y_percentage_with_data = len(train_df_with_data[train_df_with_data[attr]==True])/len(train_df_with_data)\r\n",
        "\r\n",
        "    plt.bar(i,y_percentage_without_data,color='#B22222',width=barWidth,label=\"w/o adding data\" if i==1 else \"\")\r\n",
        "    plt.bar(i+barWidth,y_percentage_with_data,color='#F08080',width=barWidth,label=\"w adding data\" if i==1 else \"\")\r\n",
        "    i+=1\r\n",
        "\r\n",
        "barWidth = 0.25\r\n",
        "\r\n",
        "plt.xticks([r + barWidth/2 for r in range(1,len(x_attr)+1)], [attr for attr in x_attr],rotation=90)\r\n",
        "plt.legend(prop={'size': 12})\r\n",
        "plt.title(\"Proportion of selected attributes inside different population\")\r\n",
        "plt.show()"
      ],
      "execution_count": null,
      "outputs": [
        {
          "output_type": "display_data",
          "data": {
            "image/png": "[encoded data removed]",
            "text/plain": [
              "<Figure size 720x360 with 1 Axes>"
            ]
          },
          "metadata": {
            "tags": [],
            "needs_background": "light"
          }
        }
      ]
    },
    {
      "cell_type": "code",
      "metadata": {
        "colab": {
          "base_uri": "https://localhost:8080/"
        },
        "id": "rmvPBwkPyMu5",
        "outputId": "3ea80916-e58d-4dc8-c67c-5eb98aa60676"
      },
      "source": [
        "# Train with data\n",
        "test_best_attr_with_data = {attr:len(test_df_with_data[(test_df_with_data[\"Attractive\"]==True) & (test_df_with_data[attr]==True)])/len(test_df_with_data[test_df_with_data[\"Attractive\"]==True])*100 if attr!=\"Attractive\" else 0 for attr in trainset.attr2idx.keys()}\n",
        "top_5_best_attr_test_w_d = sorted(test_best_attr_with_data.items(),key=lambda x: x[1],reverse=True)[:5]\n",
        "top_5_worst_attr_test_w_d = sorted(test_best_attr_with_data.items(),key=lambda x: x[1])[1:6]\n",
        "\n",
        "# predict with data\n",
        "predict_best_attr_w_d = {attr:len(test_df_with_data[(test_df_with_data[\"status\"].isin([\"False Positive\",\"True Positive\"])) & (test_df_with_data[attr]==True)])/len(test_df_with_data[test_df_with_data[\"status\"].isin([\"False Positive\",\"True Positive\"])])*100 if attr!=\"Attractive\" else 0 for attr in trainset.attr2idx.keys()}\n",
        "top_5_best_attr_predict_w_d = [predict_best_attr_w_d[tu[0]] for tu in top_5_best_attr_test_w_d]\n",
        "top_5_worst_attr_predict_w_d = [predict_best_attr_w_d[tu[0]] for tu in top_5_worst_attr_test_w_d]\n",
        "\n",
        "#Train without data added\n",
        "test_best_attr_without_data = {attr:len(test_df_without_data[(test_df_without_data[\"Attractive\"]==True) & (test_df_without_data[attr]==True)])/len(test_df_without_data[test_df_without_data[\"Attractive\"]==True])*100 if attr!=\"Attractive\" else 0 for attr in trainset.attr2idx.keys()}\n",
        "top_5_best_attr_test_without_d = sorted(test_best_attr_without_data.items(),key=lambda x: x[1],reverse=True)[:5]\n",
        "top_5_worst_attr_test_without_d = sorted(test_best_attr_without_data.items(),key=lambda x: x[1])[1:6]\n",
        "\n",
        "#Predict without data added\n",
        "predict_best_attr_without_d = {attr:len(test_df_without_data[(test_df_without_data[\"status\"].isin([\"False Positive\",\"True Positive\"])) & (test_df_without_data[attr]==True)])/len(test_df_without_data[test_df_without_data[\"status\"].isin([\"False Positive\",\"True Positive\"])])*100 if attr!=\"Attractive\" else 0 for attr in trainset.attr2idx.keys()}\n",
        "top_5_best_attr_predict_without_d = [predict_best_attr_without_d[tu[0]] for tu in top_5_best_attr_test_without_d]\n",
        "top_5_worst_attr_predict_without_d = [predict_best_attr_without_d[tu[0]] for tu in top_5_worst_attr_test_without_d]\n",
        "\n",
        "print(\"---------- Statistics in Test Dataset vs Network output WITH DATA ----------\")\n",
        "print(\"\\n\")\n",
        "print(\"Top Attributes to have\")\n",
        "print(\"--------------\")\n",
        "print(\"\\n\".join(map(lambda x,y: x[0]+\" = \"+str(round(x[1],2))+\"% vs \"+str(round(y,2))+\"%\",top_5_best_attr_test_w_d,top_5_best_attr_predict_w_d)))\n",
        "print(\"\\n\")\n",
        "print(\"Worst Attributes to have\")\n",
        "print(\"--------------\")\n",
        "print(\"\\n\".join(map(lambda x,y: x[0]+\" = \"+str(round(x[1],2))+\"% vs \"+str(round(y,2))+\"%\",top_5_worst_attr_test_w_d,top_5_worst_attr_predict_w_d)))\n",
        "print(\"\\n\")\n",
        "print(\"---------- Statistics in Test Dataset vs Network output WITHOUT DATA ADDED----------\")\n",
        "print(\"\\n\")\n",
        "print(\"Top Attributes to have\")\n",
        "print(\"--------------\")\n",
        "print(\"\\n\".join(map(lambda x,y: x[0]+\" = \"+str(round(x[1],2))+\"% vs \"+str(round(y,2))+\"%\",top_5_best_attr_test_without_d,top_5_best_attr_predict_without_d)))\n",
        "print(\"\\n\")\n",
        "print(\"Worst Attributes to have\")\n",
        "print(\"--------------\")\n",
        "print(\"\\n\".join(map(lambda x,y: x[0]+\" = \"+str(round(x[1],2))+\"% vs \"+str(round(y,2))+\"%\",top_5_worst_attr_test_without_d,top_5_worst_attr_predict_without_d)))"
      ],
      "execution_count": null,
      "outputs": [
        {
          "output_type": "stream",
          "text": [
            "---------- Statistics in Test Dataset vs Network output WITH DATA ----------\n",
            "\n",
            "\n",
            "Top Attributes to have\n",
            "--------------\n",
            "Young = 92.1% vs 91.73%\n",
            "No_Beard = 92.06% vs 93.75%\n",
            "Wearing_Lipstick = 76.1% vs 78.88%\n",
            "Heavy_Makeup = 63.6% vs 65.65%\n",
            "Smiling = 56.49% vs 57.19%\n",
            "\n",
            "\n",
            "Worst Attributes to have\n",
            "--------------\n",
            "Bald = 0.15% vs 0.03%\n",
            "Gray_Hair = 0.18% vs 0.11%\n",
            "Double_Chin = 0.26% vs 0.51%\n",
            "Chubby = 0.31% vs 0.56%\n",
            "Eyeglasses = 1.04% vs 0.58%\n",
            "\n",
            "\n",
            "---------- Statistics in Test Dataset vs Network output WITHOUT DATA ADDED----------\n",
            "\n",
            "\n",
            "Top Attributes to have\n",
            "--------------\n",
            "Young = 92.1% vs 91.77%\n",
            "No_Beard = 92.06% vs 93.14%\n",
            "Wearing_Lipstick = 76.1% vs 78.06%\n",
            "Heavy_Makeup = 63.6% vs 64.88%\n",
            "Smiling = 56.49% vs 56.75%\n",
            "\n",
            "\n",
            "Worst Attributes to have\n",
            "--------------\n",
            "Bald = 0.15% vs 0.03%\n",
            "Gray_Hair = 0.18% vs 0.14%\n",
            "Double_Chin = 0.26% vs 0.42%\n",
            "Chubby = 0.31% vs 0.53%\n",
            "Eyeglasses = 1.04% vs 0.6%\n"
          ],
          "name": "stdout"
        }
      ]
    }
  ]
}